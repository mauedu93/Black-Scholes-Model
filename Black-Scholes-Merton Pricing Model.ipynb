{
 "cells": [
  {
   "cell_type": "markdown",
   "metadata": {},
   "source": [
    "# Black Scholes Model"
   ]
  },
  {
   "cell_type": "markdown",
   "metadata": {},
   "source": [
    "The Black-Scholes Model was developed by professor Fisher Black, Myron Scholes, and Robert Merton. The model is used to value option contracts. The model makes the following assumptions: \n",
    "- Lognormal distribution for the stock price\n",
    "- There are no transaction costs or taxes\n",
    "- There is no cash flow from the underlying asset during the time to maturity of the option\n",
    "- There are no arbitrage opportunities\n",
    "- Investors can borrow or lend at the risk-free rate \n",
    "- The risk-free rate is constant\n",
    "- The model is based on European-style options\n"
   ]
  },
  {
   "cell_type": "markdown",
   "metadata": {},
   "source": [
    "The key concept from the mathematical model is that the option and the stock price depend on the same underlying source of uncertainty. This uncertainty could be eliminated by constructing a portfolio with the stock and the option. This portfolio should be instantaneously riskless and earn the risk-free rate. The portfolio will require continuous rebalancing."
   ]
  },
  {
   "cell_type": "markdown",
   "metadata": {},
   "source": [
    "The mathematical formula to calculate the call price of a European option is:"
   ]
  },
  {
   "cell_type": "markdown",
   "metadata": {},
   "source": [
    "\\begin{equation*}\n",
    "C = S_t N \\left(d1 \\right) - K e^{-rt} N \\left(d2 \\right)\n",
    "\\end{equation*}"
   ]
  },
  {
   "cell_type": "markdown",
   "metadata": {},
   "source": [
    "__Where:__\n",
    "\n",
    "\\begin{equation*}\n",
    "d1 = \\frac{ \\ln{ \\frac{S_t}{K} + \\left(r + \\frac{\\sigma_u^2}{2} \\right) t} }{\\sigma_s \\sqrt{t}}\n",
    "\\end{equation*}\n",
    "\n",
    "and:\n",
    "\n",
    "\\begin{equation*}\n",
    "d2 = d1 -  \\sigma_s \\sqrt{t}\n",
    "\\end{equation*}\n"
   ]
  },
  {
   "cell_type": "markdown",
   "metadata": {},
   "source": [
    "__Where:__\n",
    "\n",
    "\\begin{alignat*}{1}\n",
    "&C \\quad & = \\quad & \\text{Call option price} \\\\\n",
    "&S \\quad & = \\quad & \\text{Current stock (or other underlying) price} \\\\\n",
    "&K \\quad & = \\quad & \\text{Strike price} \\\\\n",
    "&r \\quad & = \\quad & \\text{Risk-free interest rate} \\\\\n",
    "&t \\quad & = \\quad & \\text{time to maturity} \\\\\n",
    "&N \\quad & = \\quad & \\text{A normal distribution}\n",
    "\\end{alignat*}"
   ]
  },
  {
   "cell_type": "markdown",
   "metadata": {},
   "source": [
    "In this notebook, I will develop a process to calculate the call price of any option given all the parameters required in the Black-Scholes model. To do that, I will use Python, specifically Yfinance and Quandl, libraries to obtain the required data."
   ]
  },
  {
   "cell_type": "markdown",
   "metadata": {},
   "source": [
    "First, let's import the necessary libraries to make the analysis.\n",
    "\n",
    "__Note:__ Some libraries might not be pre-installed so the reader will need to uncomment the line code to install them. "
   ]
  },
  {
   "cell_type": "code",
   "execution_count": 1,
   "metadata": {},
   "outputs": [],
   "source": [
    "#pip install stockquotes\n",
    "#pip install Quandl\n",
    "\n",
    "import math\n",
    "import scipy.stats as st\n",
    "import yfinance as yf\n",
    "from datetime import datetime\n",
    "from datetime import timedelta\n",
    "import stockquotes\n",
    "import quandl\n",
    "import numpy as np\n",
    "import matplotlib.pyplot as plt\n",
    "import pandas as pd\n",
    "import os\n",
    "\n",
    "%matplotlib inline"
   ]
  },
  {
   "cell_type": "markdown",
   "metadata": {},
   "source": [
    "I will use the Quandl library to obtain information about the risk-free rate. To use Quandl, you will need to set up an account and get an API key. The code to call Quandl API is <code>quandl.ApiConfig.api_key = 'YOUR KEY GOES HERE'</code>"
   ]
  },
  {
   "cell_type": "code",
   "execution_count": 2,
   "metadata": {},
   "outputs": [],
   "source": [
    "quandl.ApiConfig.api_key = os.environ.get('QUANDL_KEY')"
   ]
  },
  {
   "cell_type": "markdown",
   "metadata": {},
   "source": [
    "From the YFinance library, I will get the historical information of the S&P500."
   ]
  },
  {
   "cell_type": "code",
   "execution_count": 3,
   "metadata": {},
   "outputs": [],
   "source": [
    "GSPC = yf.Ticker('^GSPC')"
   ]
  },
  {
   "cell_type": "markdown",
   "metadata": {},
   "source": [
    "This library also allows getting the expiration dates for the options."
   ]
  },
  {
   "cell_type": "code",
   "execution_count": 4,
   "metadata": {},
   "outputs": [
    {
     "data": {
      "text/plain": [
       "('2020-12-17', '2021-12-16')"
      ]
     },
     "execution_count": 4,
     "metadata": {},
     "output_type": "execute_result"
    }
   ],
   "source": [
    "expirations = GSPC.options\n",
    "expirations"
   ]
  },
  {
   "cell_type": "markdown",
   "metadata": {},
   "source": [
    "Based on the expirations, I can get the option chain with the information required to calculate the option price using the Black-Scholes model. Let's have a look at the information available for the option chain on the S&P 500 with expiration on December 17, 2020."
   ]
  },
  {
   "cell_type": "code",
   "execution_count": 5,
   "metadata": {},
   "outputs": [
    {
     "data": {
      "text/plain": [
       "Options(calls=        contractSymbol       lastTradeDate  strike  lastPrice     bid     ask  \\\n",
       "0   SPX201218C00100000 2020-06-17 17:28:59   100.0    3012.68     0.0     0.0   \n",
       "1   SPX201218C00200000 2020-06-18 16:31:43   200.0    2878.00     0.0     0.0   \n",
       "2   SPX201218C00300000 2020-06-02 19:11:54   300.0    2738.00  2767.9  2772.4   \n",
       "3   SPX201218C00400000 2020-06-02 19:11:51   400.0    2638.40  2668.4  2672.8   \n",
       "4   SPX201218C00500000 2020-06-09 23:08:40   500.0    1790.50  2621.2  2625.4   \n",
       "..                 ...                 ...     ...        ...     ...     ...   \n",
       "89  SPX201218C03800000 2020-07-08 18:59:10  3800.0       9.80     0.0     0.0   \n",
       "90  SPX201218C03900000 2020-07-07 17:03:56  3900.0       6.39     0.0     0.0   \n",
       "91  SPX201218C04000000 2020-07-08 19:03:41  4000.0       4.14     0.0     0.0   \n",
       "92  SPX201218C04100000 2020-07-08 18:39:16  4100.0       2.88     0.0     0.0   \n",
       "93  SPX201218C04200000 2020-07-08 13:30:02  4200.0       1.85     0.0     0.0   \n",
       "\n",
       "    change  percentChange  volume  openInterest  impliedVolatility  \\\n",
       "0      0.0            0.0     345             0           0.000010   \n",
       "1      0.0            0.0      73             0           0.000010   \n",
       "2      0.0            0.0       8            86           0.000010   \n",
       "3      0.0            0.0       6            16           0.000010   \n",
       "4      0.0            0.0       0            59           0.000010   \n",
       "..     ...            ...     ...           ...                ...   \n",
       "89     0.0            0.0      32             0           0.062509   \n",
       "90     0.0            0.0    1601             0           0.062509   \n",
       "91     0.0            0.0      31             0           0.062509   \n",
       "92     0.0            0.0      30             0           0.062509   \n",
       "93     0.0            0.0      60             0           0.062509   \n",
       "\n",
       "    inTheMoney contractSize currency  \n",
       "0         True      REGULAR      USD  \n",
       "1         True      REGULAR      USD  \n",
       "2         True      REGULAR      USD  \n",
       "3         True      REGULAR      USD  \n",
       "4         True      REGULAR      USD  \n",
       "..         ...          ...      ...  \n",
       "89       False      REGULAR      USD  \n",
       "90       False      REGULAR      USD  \n",
       "91       False      REGULAR      USD  \n",
       "92       False      REGULAR      USD  \n",
       "93       False      REGULAR      USD  \n",
       "\n",
       "[94 rows x 14 columns], puts=         contractSymbol       lastTradeDate  strike  lastPrice     bid  \\\n",
       "0    SPX201218P00100000 2020-07-02 14:00:25   100.0       0.07     0.0   \n",
       "1    SPX201218P00200000 2020-07-07 18:54:23   200.0       0.15     0.0   \n",
       "2    SPX201218P00300000 2020-07-08 16:47:21   300.0       0.30     0.0   \n",
       "3    SPX201218P00400000 2020-07-07 18:54:17   400.0       0.50     0.0   \n",
       "4    SPX201218P00500000 2020-07-08 14:17:16   500.0       0.80     0.0   \n",
       "..                  ...                 ...     ...        ...     ...   \n",
       "107  SPX201218P03800000 2020-06-24 13:36:35  3800.0     716.74     0.0   \n",
       "108  SPX201218P03900000 2020-07-02 16:25:06  3900.0     780.24     0.0   \n",
       "109  SPX201218P04000000 2020-07-07 19:58:16  4000.0     876.30     0.0   \n",
       "110  SPX201218P04100000 2020-06-22 22:43:43  4100.0    1160.07   976.8   \n",
       "111  SPX201218P04200000 2020-06-09 23:09:27  4200.0    1381.95  1070.0   \n",
       "\n",
       "        ask  change  percentChange  volume  openInterest  impliedVolatility  \\\n",
       "0       0.0     0.0            0.0       1             0           0.500005   \n",
       "1       0.0     0.0            0.0       1             0           0.500005   \n",
       "2       0.0     0.0            0.0      23             0           0.500005   \n",
       "3       0.0     0.0            0.0      64             0           0.500005   \n",
       "4       0.0     0.0            0.0       4             0           0.500005   \n",
       "..      ...     ...            ...     ...           ...                ...   \n",
       "107     0.0     0.0            0.0       1             0           0.000010   \n",
       "108     0.0     0.0            0.0       1             0           0.000010   \n",
       "109     0.0     0.0            0.0       1             0           0.000010   \n",
       "110   980.9     0.0            0.0       1           513           0.337043   \n",
       "111  1074.2     0.0            0.0     500           514           0.343387   \n",
       "\n",
       "     inTheMoney contractSize currency  \n",
       "0         False      REGULAR      USD  \n",
       "1         False      REGULAR      USD  \n",
       "2         False      REGULAR      USD  \n",
       "3         False      REGULAR      USD  \n",
       "4         False      REGULAR      USD  \n",
       "..          ...          ...      ...  \n",
       "107        True      REGULAR      USD  \n",
       "108        True      REGULAR      USD  \n",
       "109        True      REGULAR      USD  \n",
       "110        True      REGULAR      USD  \n",
       "111        True      REGULAR      USD  \n",
       "\n",
       "[112 rows x 14 columns])"
      ]
     },
     "execution_count": 5,
     "metadata": {},
     "output_type": "execute_result"
    }
   ],
   "source": [
    "GSPC_opts = GSPC.option_chain(expirations[0])\n",
    "GSPC_opts"
   ]
  },
  {
   "cell_type": "markdown",
   "metadata": {},
   "source": [
    "This analysis will focus only on calculating the call price; however, once a put price formula is defined the reader can easily run the code with all the variables already defined in this notebook. Let's have a look at the DataFrame generated from YFinance."
   ]
  },
  {
   "cell_type": "code",
   "execution_count": 6,
   "metadata": {},
   "outputs": [
    {
     "data": {
      "text/html": [
       "<div>\n",
       "<style scoped>\n",
       "    .dataframe tbody tr th:only-of-type {\n",
       "        vertical-align: middle;\n",
       "    }\n",
       "\n",
       "    .dataframe tbody tr th {\n",
       "        vertical-align: top;\n",
       "    }\n",
       "\n",
       "    .dataframe thead th {\n",
       "        text-align: right;\n",
       "    }\n",
       "</style>\n",
       "<table border=\"1\" class=\"dataframe\">\n",
       "  <thead>\n",
       "    <tr style=\"text-align: right;\">\n",
       "      <th></th>\n",
       "      <th>contractSymbol</th>\n",
       "      <th>lastTradeDate</th>\n",
       "      <th>strike</th>\n",
       "      <th>lastPrice</th>\n",
       "      <th>bid</th>\n",
       "      <th>ask</th>\n",
       "      <th>change</th>\n",
       "      <th>percentChange</th>\n",
       "      <th>volume</th>\n",
       "      <th>openInterest</th>\n",
       "      <th>impliedVolatility</th>\n",
       "      <th>inTheMoney</th>\n",
       "      <th>contractSize</th>\n",
       "      <th>currency</th>\n",
       "    </tr>\n",
       "  </thead>\n",
       "  <tbody>\n",
       "    <tr>\n",
       "      <th>0</th>\n",
       "      <td>SPX201218C00100000</td>\n",
       "      <td>2020-06-17 17:28:59</td>\n",
       "      <td>100.0</td>\n",
       "      <td>3012.68</td>\n",
       "      <td>0.0</td>\n",
       "      <td>0.0</td>\n",
       "      <td>0.0</td>\n",
       "      <td>0.0</td>\n",
       "      <td>345</td>\n",
       "      <td>0</td>\n",
       "      <td>0.000010</td>\n",
       "      <td>True</td>\n",
       "      <td>REGULAR</td>\n",
       "      <td>USD</td>\n",
       "    </tr>\n",
       "    <tr>\n",
       "      <th>1</th>\n",
       "      <td>SPX201218C00200000</td>\n",
       "      <td>2020-06-18 16:31:43</td>\n",
       "      <td>200.0</td>\n",
       "      <td>2878.00</td>\n",
       "      <td>0.0</td>\n",
       "      <td>0.0</td>\n",
       "      <td>0.0</td>\n",
       "      <td>0.0</td>\n",
       "      <td>73</td>\n",
       "      <td>0</td>\n",
       "      <td>0.000010</td>\n",
       "      <td>True</td>\n",
       "      <td>REGULAR</td>\n",
       "      <td>USD</td>\n",
       "    </tr>\n",
       "    <tr>\n",
       "      <th>2</th>\n",
       "      <td>SPX201218C00300000</td>\n",
       "      <td>2020-06-02 19:11:54</td>\n",
       "      <td>300.0</td>\n",
       "      <td>2738.00</td>\n",
       "      <td>2767.9</td>\n",
       "      <td>2772.4</td>\n",
       "      <td>0.0</td>\n",
       "      <td>0.0</td>\n",
       "      <td>8</td>\n",
       "      <td>86</td>\n",
       "      <td>0.000010</td>\n",
       "      <td>True</td>\n",
       "      <td>REGULAR</td>\n",
       "      <td>USD</td>\n",
       "    </tr>\n",
       "    <tr>\n",
       "      <th>3</th>\n",
       "      <td>SPX201218C00400000</td>\n",
       "      <td>2020-06-02 19:11:51</td>\n",
       "      <td>400.0</td>\n",
       "      <td>2638.40</td>\n",
       "      <td>2668.4</td>\n",
       "      <td>2672.8</td>\n",
       "      <td>0.0</td>\n",
       "      <td>0.0</td>\n",
       "      <td>6</td>\n",
       "      <td>16</td>\n",
       "      <td>0.000010</td>\n",
       "      <td>True</td>\n",
       "      <td>REGULAR</td>\n",
       "      <td>USD</td>\n",
       "    </tr>\n",
       "    <tr>\n",
       "      <th>4</th>\n",
       "      <td>SPX201218C00500000</td>\n",
       "      <td>2020-06-09 23:08:40</td>\n",
       "      <td>500.0</td>\n",
       "      <td>1790.50</td>\n",
       "      <td>2621.2</td>\n",
       "      <td>2625.4</td>\n",
       "      <td>0.0</td>\n",
       "      <td>0.0</td>\n",
       "      <td>0</td>\n",
       "      <td>59</td>\n",
       "      <td>0.000010</td>\n",
       "      <td>True</td>\n",
       "      <td>REGULAR</td>\n",
       "      <td>USD</td>\n",
       "    </tr>\n",
       "    <tr>\n",
       "      <th>...</th>\n",
       "      <td>...</td>\n",
       "      <td>...</td>\n",
       "      <td>...</td>\n",
       "      <td>...</td>\n",
       "      <td>...</td>\n",
       "      <td>...</td>\n",
       "      <td>...</td>\n",
       "      <td>...</td>\n",
       "      <td>...</td>\n",
       "      <td>...</td>\n",
       "      <td>...</td>\n",
       "      <td>...</td>\n",
       "      <td>...</td>\n",
       "      <td>...</td>\n",
       "    </tr>\n",
       "    <tr>\n",
       "      <th>89</th>\n",
       "      <td>SPX201218C03800000</td>\n",
       "      <td>2020-07-08 18:59:10</td>\n",
       "      <td>3800.0</td>\n",
       "      <td>9.80</td>\n",
       "      <td>0.0</td>\n",
       "      <td>0.0</td>\n",
       "      <td>0.0</td>\n",
       "      <td>0.0</td>\n",
       "      <td>32</td>\n",
       "      <td>0</td>\n",
       "      <td>0.062509</td>\n",
       "      <td>False</td>\n",
       "      <td>REGULAR</td>\n",
       "      <td>USD</td>\n",
       "    </tr>\n",
       "    <tr>\n",
       "      <th>90</th>\n",
       "      <td>SPX201218C03900000</td>\n",
       "      <td>2020-07-07 17:03:56</td>\n",
       "      <td>3900.0</td>\n",
       "      <td>6.39</td>\n",
       "      <td>0.0</td>\n",
       "      <td>0.0</td>\n",
       "      <td>0.0</td>\n",
       "      <td>0.0</td>\n",
       "      <td>1601</td>\n",
       "      <td>0</td>\n",
       "      <td>0.062509</td>\n",
       "      <td>False</td>\n",
       "      <td>REGULAR</td>\n",
       "      <td>USD</td>\n",
       "    </tr>\n",
       "    <tr>\n",
       "      <th>91</th>\n",
       "      <td>SPX201218C04000000</td>\n",
       "      <td>2020-07-08 19:03:41</td>\n",
       "      <td>4000.0</td>\n",
       "      <td>4.14</td>\n",
       "      <td>0.0</td>\n",
       "      <td>0.0</td>\n",
       "      <td>0.0</td>\n",
       "      <td>0.0</td>\n",
       "      <td>31</td>\n",
       "      <td>0</td>\n",
       "      <td>0.062509</td>\n",
       "      <td>False</td>\n",
       "      <td>REGULAR</td>\n",
       "      <td>USD</td>\n",
       "    </tr>\n",
       "    <tr>\n",
       "      <th>92</th>\n",
       "      <td>SPX201218C04100000</td>\n",
       "      <td>2020-07-08 18:39:16</td>\n",
       "      <td>4100.0</td>\n",
       "      <td>2.88</td>\n",
       "      <td>0.0</td>\n",
       "      <td>0.0</td>\n",
       "      <td>0.0</td>\n",
       "      <td>0.0</td>\n",
       "      <td>30</td>\n",
       "      <td>0</td>\n",
       "      <td>0.062509</td>\n",
       "      <td>False</td>\n",
       "      <td>REGULAR</td>\n",
       "      <td>USD</td>\n",
       "    </tr>\n",
       "    <tr>\n",
       "      <th>93</th>\n",
       "      <td>SPX201218C04200000</td>\n",
       "      <td>2020-07-08 13:30:02</td>\n",
       "      <td>4200.0</td>\n",
       "      <td>1.85</td>\n",
       "      <td>0.0</td>\n",
       "      <td>0.0</td>\n",
       "      <td>0.0</td>\n",
       "      <td>0.0</td>\n",
       "      <td>60</td>\n",
       "      <td>0</td>\n",
       "      <td>0.062509</td>\n",
       "      <td>False</td>\n",
       "      <td>REGULAR</td>\n",
       "      <td>USD</td>\n",
       "    </tr>\n",
       "  </tbody>\n",
       "</table>\n",
       "<p>94 rows × 14 columns</p>\n",
       "</div>"
      ],
      "text/plain": [
       "        contractSymbol       lastTradeDate  strike  lastPrice     bid     ask  \\\n",
       "0   SPX201218C00100000 2020-06-17 17:28:59   100.0    3012.68     0.0     0.0   \n",
       "1   SPX201218C00200000 2020-06-18 16:31:43   200.0    2878.00     0.0     0.0   \n",
       "2   SPX201218C00300000 2020-06-02 19:11:54   300.0    2738.00  2767.9  2772.4   \n",
       "3   SPX201218C00400000 2020-06-02 19:11:51   400.0    2638.40  2668.4  2672.8   \n",
       "4   SPX201218C00500000 2020-06-09 23:08:40   500.0    1790.50  2621.2  2625.4   \n",
       "..                 ...                 ...     ...        ...     ...     ...   \n",
       "89  SPX201218C03800000 2020-07-08 18:59:10  3800.0       9.80     0.0     0.0   \n",
       "90  SPX201218C03900000 2020-07-07 17:03:56  3900.0       6.39     0.0     0.0   \n",
       "91  SPX201218C04000000 2020-07-08 19:03:41  4000.0       4.14     0.0     0.0   \n",
       "92  SPX201218C04100000 2020-07-08 18:39:16  4100.0       2.88     0.0     0.0   \n",
       "93  SPX201218C04200000 2020-07-08 13:30:02  4200.0       1.85     0.0     0.0   \n",
       "\n",
       "    change  percentChange  volume  openInterest  impliedVolatility  \\\n",
       "0      0.0            0.0     345             0           0.000010   \n",
       "1      0.0            0.0      73             0           0.000010   \n",
       "2      0.0            0.0       8            86           0.000010   \n",
       "3      0.0            0.0       6            16           0.000010   \n",
       "4      0.0            0.0       0            59           0.000010   \n",
       "..     ...            ...     ...           ...                ...   \n",
       "89     0.0            0.0      32             0           0.062509   \n",
       "90     0.0            0.0    1601             0           0.062509   \n",
       "91     0.0            0.0      31             0           0.062509   \n",
       "92     0.0            0.0      30             0           0.062509   \n",
       "93     0.0            0.0      60             0           0.062509   \n",
       "\n",
       "    inTheMoney contractSize currency  \n",
       "0         True      REGULAR      USD  \n",
       "1         True      REGULAR      USD  \n",
       "2         True      REGULAR      USD  \n",
       "3         True      REGULAR      USD  \n",
       "4         True      REGULAR      USD  \n",
       "..         ...          ...      ...  \n",
       "89       False      REGULAR      USD  \n",
       "90       False      REGULAR      USD  \n",
       "91       False      REGULAR      USD  \n",
       "92       False      REGULAR      USD  \n",
       "93       False      REGULAR      USD  \n",
       "\n",
       "[94 rows x 14 columns]"
      ]
     },
     "execution_count": 6,
     "metadata": {},
     "output_type": "execute_result"
    }
   ],
   "source": [
    "GSPC_calls = GSPC_opts.calls\n",
    "GSPC_calls"
   ]
  },
  {
   "cell_type": "markdown",
   "metadata": {},
   "source": [
    "From this dataFrame, I need the information related to the strike price and the implied volatility.\n",
    "\n",
    "We can save the strike price in a dictionary where the keys will be the different expiration dates and the values will be an array with all the strike prices available on the specific expiration date. "
   ]
  },
  {
   "cell_type": "code",
   "execution_count": 7,
   "metadata": {},
   "outputs": [],
   "source": [
    "K = {name: pd.DataFrame()for name in expirations}\n",
    "\n",
    "for i, a in enumerate(expirations):\n",
    "    GSPC_opts = GSPC.option_chain(expirations[i])\n",
    "    GSPC_calls = GSPC_opts.calls\n",
    "    K[a] = GSPC_calls['strike']"
   ]
  },
  {
   "cell_type": "markdown",
   "metadata": {},
   "source": [
    "Similarly, I can get a dictionary with information related to the implied volatility. Once again, the keys of the dictionary will be the different expiration dates and the values of the dictionary will be an array with the implied volatility corresponding to a determined strike price."
   ]
  },
  {
   "cell_type": "code",
   "execution_count": 8,
   "metadata": {},
   "outputs": [],
   "source": [
    "sigma = {name: pd.DataFrame() for name in expirations}\n",
    "\n",
    "for i, a in enumerate(expirations):\n",
    "    GSPC_opts = GSPC.option_chain(expirations[i])\n",
    "    GSPC_calls = GSPC_opts.calls\n",
    "    sigma[a] = GSPC_calls['impliedVolatility']"
   ]
  },
  {
   "cell_type": "markdown",
   "metadata": {},
   "source": [
    "With the same logic used before, I can get the time to maturity for each expiration date. I will define a dictionary where the keys are the different expiration dates available, and the values of the dictionary are the difference between the current date and the expiration date. However, in this case, values are not an array of data, instead, the values are a scalar."
   ]
  },
  {
   "cell_type": "code",
   "execution_count": 9,
   "metadata": {},
   "outputs": [],
   "source": [
    "t = {name: pd.DataFrame() for name in expirations}\n",
    "\n",
    "for i, a in enumerate(expirations):\n",
    "    expiration_date = datetime.strptime(expirations[i],\"%Y-%m-%d\") \n",
    "    today = datetime.now()\n",
    "    t[a] = (expiration_date - today).days/365"
   ]
  },
  {
   "cell_type": "markdown",
   "metadata": {},
   "source": [
    "Using the Quandl library, I can get access to the daily Treasury Yield Curve and saved it in a variable called <code>yield_curve</code>. To get the yield curve, I used the get module as follows: <code>quandl.get(\"USTREASURY/YIELD\", authtoken=\"YOUR TOKEN GOES HERE\")</code>"
   ]
  },
  {
   "cell_type": "code",
   "execution_count": 11,
   "metadata": {},
   "outputs": [
    {
     "data": {
      "text/html": [
       "<div>\n",
       "<style scoped>\n",
       "    .dataframe tbody tr th:only-of-type {\n",
       "        vertical-align: middle;\n",
       "    }\n",
       "\n",
       "    .dataframe tbody tr th {\n",
       "        vertical-align: top;\n",
       "    }\n",
       "\n",
       "    .dataframe thead th {\n",
       "        text-align: right;\n",
       "    }\n",
       "</style>\n",
       "<table border=\"1\" class=\"dataframe\">\n",
       "  <thead>\n",
       "    <tr style=\"text-align: right;\">\n",
       "      <th></th>\n",
       "      <th>1 MO</th>\n",
       "      <th>2 MO</th>\n",
       "      <th>3 MO</th>\n",
       "      <th>6 MO</th>\n",
       "      <th>1 YR</th>\n",
       "      <th>2 YR</th>\n",
       "      <th>3 YR</th>\n",
       "      <th>5 YR</th>\n",
       "      <th>7 YR</th>\n",
       "      <th>10 YR</th>\n",
       "      <th>20 YR</th>\n",
       "      <th>30 YR</th>\n",
       "    </tr>\n",
       "    <tr>\n",
       "      <th>Date</th>\n",
       "      <th></th>\n",
       "      <th></th>\n",
       "      <th></th>\n",
       "      <th></th>\n",
       "      <th></th>\n",
       "      <th></th>\n",
       "      <th></th>\n",
       "      <th></th>\n",
       "      <th></th>\n",
       "      <th></th>\n",
       "      <th></th>\n",
       "      <th></th>\n",
       "    </tr>\n",
       "  </thead>\n",
       "  <tbody>\n",
       "    <tr>\n",
       "      <th>1990-01-02</th>\n",
       "      <td>NaN</td>\n",
       "      <td>NaN</td>\n",
       "      <td>7.83</td>\n",
       "      <td>7.89</td>\n",
       "      <td>7.81</td>\n",
       "      <td>7.87</td>\n",
       "      <td>7.90</td>\n",
       "      <td>7.87</td>\n",
       "      <td>7.98</td>\n",
       "      <td>7.94</td>\n",
       "      <td>NaN</td>\n",
       "      <td>8.00</td>\n",
       "    </tr>\n",
       "    <tr>\n",
       "      <th>1990-01-03</th>\n",
       "      <td>NaN</td>\n",
       "      <td>NaN</td>\n",
       "      <td>7.89</td>\n",
       "      <td>7.94</td>\n",
       "      <td>7.85</td>\n",
       "      <td>7.94</td>\n",
       "      <td>7.96</td>\n",
       "      <td>7.92</td>\n",
       "      <td>8.04</td>\n",
       "      <td>7.99</td>\n",
       "      <td>NaN</td>\n",
       "      <td>8.04</td>\n",
       "    </tr>\n",
       "    <tr>\n",
       "      <th>1990-01-04</th>\n",
       "      <td>NaN</td>\n",
       "      <td>NaN</td>\n",
       "      <td>7.84</td>\n",
       "      <td>7.90</td>\n",
       "      <td>7.82</td>\n",
       "      <td>7.92</td>\n",
       "      <td>7.93</td>\n",
       "      <td>7.91</td>\n",
       "      <td>8.02</td>\n",
       "      <td>7.98</td>\n",
       "      <td>NaN</td>\n",
       "      <td>8.04</td>\n",
       "    </tr>\n",
       "    <tr>\n",
       "      <th>1990-01-05</th>\n",
       "      <td>NaN</td>\n",
       "      <td>NaN</td>\n",
       "      <td>7.79</td>\n",
       "      <td>7.85</td>\n",
       "      <td>7.79</td>\n",
       "      <td>7.90</td>\n",
       "      <td>7.94</td>\n",
       "      <td>7.92</td>\n",
       "      <td>8.03</td>\n",
       "      <td>7.99</td>\n",
       "      <td>NaN</td>\n",
       "      <td>8.06</td>\n",
       "    </tr>\n",
       "    <tr>\n",
       "      <th>1990-01-08</th>\n",
       "      <td>NaN</td>\n",
       "      <td>NaN</td>\n",
       "      <td>7.79</td>\n",
       "      <td>7.88</td>\n",
       "      <td>7.81</td>\n",
       "      <td>7.90</td>\n",
       "      <td>7.95</td>\n",
       "      <td>7.92</td>\n",
       "      <td>8.05</td>\n",
       "      <td>8.02</td>\n",
       "      <td>NaN</td>\n",
       "      <td>8.09</td>\n",
       "    </tr>\n",
       "    <tr>\n",
       "      <th>...</th>\n",
       "      <td>...</td>\n",
       "      <td>...</td>\n",
       "      <td>...</td>\n",
       "      <td>...</td>\n",
       "      <td>...</td>\n",
       "      <td>...</td>\n",
       "      <td>...</td>\n",
       "      <td>...</td>\n",
       "      <td>...</td>\n",
       "      <td>...</td>\n",
       "      <td>...</td>\n",
       "      <td>...</td>\n",
       "    </tr>\n",
       "    <tr>\n",
       "      <th>2020-07-01</th>\n",
       "      <td>0.12</td>\n",
       "      <td>0.12</td>\n",
       "      <td>0.14</td>\n",
       "      <td>0.17</td>\n",
       "      <td>0.16</td>\n",
       "      <td>0.17</td>\n",
       "      <td>0.19</td>\n",
       "      <td>0.31</td>\n",
       "      <td>0.52</td>\n",
       "      <td>0.69</td>\n",
       "      <td>1.20</td>\n",
       "      <td>1.43</td>\n",
       "    </tr>\n",
       "    <tr>\n",
       "      <th>2020-07-02</th>\n",
       "      <td>0.13</td>\n",
       "      <td>0.14</td>\n",
       "      <td>0.14</td>\n",
       "      <td>0.16</td>\n",
       "      <td>0.16</td>\n",
       "      <td>0.16</td>\n",
       "      <td>0.19</td>\n",
       "      <td>0.29</td>\n",
       "      <td>0.50</td>\n",
       "      <td>0.68</td>\n",
       "      <td>1.20</td>\n",
       "      <td>1.43</td>\n",
       "    </tr>\n",
       "    <tr>\n",
       "      <th>2020-07-06</th>\n",
       "      <td>0.12</td>\n",
       "      <td>0.14</td>\n",
       "      <td>0.15</td>\n",
       "      <td>0.16</td>\n",
       "      <td>0.16</td>\n",
       "      <td>0.16</td>\n",
       "      <td>0.19</td>\n",
       "      <td>0.31</td>\n",
       "      <td>0.51</td>\n",
       "      <td>0.69</td>\n",
       "      <td>1.21</td>\n",
       "      <td>1.45</td>\n",
       "    </tr>\n",
       "    <tr>\n",
       "      <th>2020-07-07</th>\n",
       "      <td>0.12</td>\n",
       "      <td>0.14</td>\n",
       "      <td>0.15</td>\n",
       "      <td>0.17</td>\n",
       "      <td>0.15</td>\n",
       "      <td>0.16</td>\n",
       "      <td>0.19</td>\n",
       "      <td>0.29</td>\n",
       "      <td>0.48</td>\n",
       "      <td>0.65</td>\n",
       "      <td>1.15</td>\n",
       "      <td>1.38</td>\n",
       "    </tr>\n",
       "    <tr>\n",
       "      <th>2020-07-08</th>\n",
       "      <td>0.11</td>\n",
       "      <td>0.13</td>\n",
       "      <td>0.15</td>\n",
       "      <td>0.17</td>\n",
       "      <td>0.15</td>\n",
       "      <td>0.16</td>\n",
       "      <td>0.19</td>\n",
       "      <td>0.30</td>\n",
       "      <td>0.49</td>\n",
       "      <td>0.67</td>\n",
       "      <td>1.16</td>\n",
       "      <td>1.39</td>\n",
       "    </tr>\n",
       "  </tbody>\n",
       "</table>\n",
       "<p>7635 rows × 12 columns</p>\n",
       "</div>"
      ],
      "text/plain": [
       "            1 MO  2 MO  3 MO  6 MO  1 YR  2 YR  3 YR  5 YR  7 YR  10 YR  \\\n",
       "Date                                                                      \n",
       "1990-01-02   NaN   NaN  7.83  7.89  7.81  7.87  7.90  7.87  7.98   7.94   \n",
       "1990-01-03   NaN   NaN  7.89  7.94  7.85  7.94  7.96  7.92  8.04   7.99   \n",
       "1990-01-04   NaN   NaN  7.84  7.90  7.82  7.92  7.93  7.91  8.02   7.98   \n",
       "1990-01-05   NaN   NaN  7.79  7.85  7.79  7.90  7.94  7.92  8.03   7.99   \n",
       "1990-01-08   NaN   NaN  7.79  7.88  7.81  7.90  7.95  7.92  8.05   8.02   \n",
       "...          ...   ...   ...   ...   ...   ...   ...   ...   ...    ...   \n",
       "2020-07-01  0.12  0.12  0.14  0.17  0.16  0.17  0.19  0.31  0.52   0.69   \n",
       "2020-07-02  0.13  0.14  0.14  0.16  0.16  0.16  0.19  0.29  0.50   0.68   \n",
       "2020-07-06  0.12  0.14  0.15  0.16  0.16  0.16  0.19  0.31  0.51   0.69   \n",
       "2020-07-07  0.12  0.14  0.15  0.17  0.15  0.16  0.19  0.29  0.48   0.65   \n",
       "2020-07-08  0.11  0.13  0.15  0.17  0.15  0.16  0.19  0.30  0.49   0.67   \n",
       "\n",
       "            20 YR  30 YR  \n",
       "Date                      \n",
       "1990-01-02    NaN   8.00  \n",
       "1990-01-03    NaN   8.04  \n",
       "1990-01-04    NaN   8.04  \n",
       "1990-01-05    NaN   8.06  \n",
       "1990-01-08    NaN   8.09  \n",
       "...           ...    ...  \n",
       "2020-07-01   1.20   1.43  \n",
       "2020-07-02   1.20   1.43  \n",
       "2020-07-06   1.21   1.45  \n",
       "2020-07-07   1.15   1.38  \n",
       "2020-07-08   1.16   1.39  \n",
       "\n",
       "[7635 rows x 12 columns]"
      ]
     },
     "execution_count": 11,
     "metadata": {},
     "output_type": "execute_result"
    }
   ],
   "source": [
    "yield_curve = quandl.get(\"USTREASURY/YIELD\", authtoken=os.environ.get('QUANDL_KEY'))\n",
    "yield_curve"
   ]
  },
  {
   "cell_type": "markdown",
   "metadata": {},
   "source": [
    "Now, I will define a function that allows me to calculate the time to maturity of the option based on the expiration date. The next step will be to match this time to maturity with the most appropriate treasury yield.\n",
    "\n",
    "To achieve this matching task, I will define a function that browses through the list of available treasury maturities and matches the time to maturity of the option with the corresponding yield of the closest greater treasury maturity."
   ]
  },
  {
   "cell_type": "code",
   "execution_count": 12,
   "metadata": {},
   "outputs": [],
   "source": [
    "def TTM(exp_date,today):\n",
    "    time_to_maturity = (exp_date - today).days\n",
    "    return time_to_maturity\n",
    "\n",
    "def rf(exp_date,today):\n",
    "    num_days = [30,60,90,180,365,730,1095,1825,2555,3650,7300,10950]\n",
    "    rf_ttm = list(yield_curve.columns)\n",
    "    risk_free_L = []\n",
    "    if round(TTM(exp_date,today)) < 0:\n",
    "        return \"Expire date must be greater than today\"\n",
    "    elif round(TTM(exp_date,today)) > num_days[-1]: \n",
    "        return yield_curve[rf_ttm[-1]][-1]/100\n",
    "    else:\n",
    "        for b, f in zip(num_days, rf_ttm):\n",
    "                if round(TTM(expiration_date,today)) < b:\n",
    "                    risk_free_L.append(yield_curve[f][-1]/100)\n",
    "        return risk_free_L[0]"
   ]
  },
  {
   "cell_type": "markdown",
   "metadata": {},
   "source": [
    "With this last function defined, I can create a dictionary with the different risk-free rates relevant for each expiration. Again, the keys of the dictionary will be the expirations of the option and the values will be a scalar with the corresponding risk-free rate."
   ]
  },
  {
   "cell_type": "code",
   "execution_count": 13,
   "metadata": {},
   "outputs": [],
   "source": [
    "rf_rate = {name: pd.DataFrame() for name in expirations}\n",
    "\n",
    "for i, a in enumerate(expirations):\n",
    "    expiration_date = datetime.strptime(expirations[i],\"%Y-%m-%d\") \n",
    "    today = datetime.now()\n",
    "    rf_rate[a] = rf(expiration_date,today)"
   ]
  },
  {
   "cell_type": "markdown",
   "metadata": {},
   "source": [
    "The last variable needed to calculate the price of the call option is the current price of the security. This can be obtained from the stockquotes library through the <code>Stock</code> module."
   ]
  },
  {
   "cell_type": "code",
   "execution_count": 14,
   "metadata": {},
   "outputs": [],
   "source": [
    "SP500 = stockquotes.Stock(\"^GSPC\")\n",
    "S = SP500.current_price"
   ]
  },
  {
   "cell_type": "markdown",
   "metadata": {},
   "source": [
    "Now, let's develop the Black-Scholes model. I will define the model with 3 different functions; the advantage of this is that these functions could potentially  be used to create a Black-Scholes Class in Python for future development projects.\n",
    "\n",
    "The first function will calculate the expected value of the stock if the option is exercised using risk-adjusted probabilities. This is the equivalent of the term $\\begin{equation*}N \\left(d1 \\right)\\end{equation*}$. The function will return a tuple containing $\\begin{equation*}d1 \\end{equation*}$ and $\\begin{equation*}N \\left(d1 \\right)\\end{equation*}$."
   ]
  },
  {
   "cell_type": "code",
   "execution_count": 15,
   "metadata": {},
   "outputs": [],
   "source": [
    "def Norm_d1(S, K, r, t, sigma):\n",
    "    d1 = (np.log(S/K)+(r+((np.power(sigma,2)/2))*t))/(sigma*math.sqrt(t))\n",
    "    N_d1 = st.norm.cdf(d1)\n",
    "    return (d1, N_d1)"
   ]
  },
  {
   "cell_type": "markdown",
   "metadata": {},
   "source": [
    "The next function that I will define is the probability of the function to be exercised based on risk-adjusted probabilities. This is equivalent to the term $\\begin{equation*}N \\left(d2 \\right)\\end{equation*}$."
   ]
  },
  {
   "cell_type": "code",
   "execution_count": 16,
   "metadata": {},
   "outputs": [],
   "source": [
    "def Norm_d2(d1, sigma, t):\n",
    "    d2 = d1 - sigma*math.sqrt(t)\n",
    "    N_d2 = st.norm.cdf(d2)\n",
    "    return N_d2"
   ]
  },
  {
   "cell_type": "markdown",
   "metadata": {},
   "source": [
    "Lastly, I will define the function that will calculate the call price taking an input all the variables required in the model and using the previous two functions."
   ]
  },
  {
   "cell_type": "code",
   "execution_count": 17,
   "metadata": {},
   "outputs": [],
   "source": [
    "def Call_price(S, K, r, t, sigma):\n",
    "    d1, N_d1 = Norm_d1(S, K, r, t, sigma)\n",
    "    N_d2 = Norm_d2(d1, sigma, t)\n",
    "    C = S*N_d1-K*math.exp(-r*t)*N_d2\n",
    "    return C"
   ]
  },
  {
   "cell_type": "markdown",
   "metadata": {},
   "source": [
    "With the call price function define, I can create a dictionary that saves the array of call prices for different expiration dates. "
   ]
  },
  {
   "cell_type": "code",
   "execution_count": 18,
   "metadata": {},
   "outputs": [],
   "source": [
    "C = {name: pd.DataFrame() for name in expirations}\n",
    "\n",
    "for i, a in enumerate(expirations):\n",
    "    C[a] = Call_price(S, K[a], rf_rate[a], t[a], sigma[a])"
   ]
  },
  {
   "cell_type": "markdown",
   "metadata": {},
   "source": [
    "Let's visualize the results. The following graph will compare, for the two expirations available, the call price for different strike prices calculated using the Black-Scholes model and the actual price taken from the YFinance library. "
   ]
  },
  {
   "cell_type": "code",
   "execution_count": 19,
   "metadata": {
    "scrolled": false
   },
   "outputs": [
    {
     "data": {
      "image/png": "[encoded data removed]",
      "text/plain": [
       "<Figure size 1440x504 with 2 Axes>"
      ]
     },
     "metadata": {
      "needs_background": "light"
     },
     "output_type": "display_data"
    }
   ],
   "source": [
    "fig,axs = plt.subplots(1,2,figsize=(20,7)) #Create a subplot of two dimensions\n",
    "\n",
    "fig.suptitle('S&P500 Call Value vs. Strike Price',fontsize=18,fontweight='bold') #Set the main title in the figure\n",
    "\n",
    "axs[0].plot(K[expirations[0]], \n",
    "            C[expirations[0]],\n",
    "            'tab:red',\n",
    "            linewidth=4.0,\n",
    "            label='BSM model') #Plots the first expiration based on BSM model\n",
    "axs[0].plot(K[expirations[0]], \n",
    "            GSPC.option_chain(expirations[0]).calls['lastPrice'],\n",
    "            'tab:cyan',\n",
    "            linewidth=1.0, \n",
    "            label='Market price') #Plots the first expiration based on actual market price\n",
    "axs[0].legend(labelspacing=2,borderpad=1.25,fontsize=10) #Set legend \n",
    "axs[0].set_xlim(xmin=0.0) #To start the graph on (0,0)\n",
    "axs[0].set_ylim(ymin=0.0)\n",
    "axs[0].set_xlabel(\"Strike Price\",fontsize=14) #Set X-axis label\n",
    "axs[0].set_ylabel(\"Call Price\",fontsize=14) #Set Y-axis label\n",
    "axs[0].set_title(f\"Expiration: {datetime.strptime(expirations[0],'%Y-%m-%d').strftime('%b %d, %Y')}\",\n",
    "                 fontsize=14) #Subtitle on the first figure\n",
    "axs[0].spines['right'].set_visible(False) #Remove right border on the first subplot\n",
    "axs[0].spines['top'].set_visible(False)  #Remove top border on the first subplot\n",
    "\n",
    "axs[1].plot(K[expirations[1]], \n",
    "            C[expirations[1]],\n",
    "            'tab:orange',\n",
    "            linewidth=4.0, \n",
    "            label='BSM model') #Plots the second expiration based on BSM model\n",
    "axs[1].plot(K[expirations[1]], \n",
    "            GSPC.option_chain(expirations[1]).calls['lastPrice'],\n",
    "            linewidth=1.0, \n",
    "            label='Market price') #Plots the second expiration based on actual market price\n",
    "axs[1].legend(labelspacing=2,borderpad=1.25,fontsize=10) #Set legend\n",
    "axs[1].set_xlim(xmin=0.0) #To start the graph on (0,0)\n",
    "axs[1].set_ylim(ymin=0.0)\n",
    "axs[1].set_xlabel(\"Strike Price\",fontsize=14) #Set X-axis label\n",
    "axs[1].set_ylabel(\"Call Price\",fontsize=14) #Set Y-axis label\n",
    "axs[1].set_title(f\"Expiration: {datetime.strptime(expirations[1],'%Y-%m-%d').strftime('%b %d, %Y')}\",\n",
    "                 fontsize=14) #Subtitle on the first figure\n",
    "axs[1].spines['right'].set_visible(False) #Remove right border on the second subplot\n",
    "axs[1].spines['top'].set_visible(False) #Remove top border on the second subplot\n",
    "\n",
    "\n",
    "plt.show()"
   ]
  },
  {
   "cell_type": "markdown",
   "metadata": {},
   "source": [
    "The difference between the Black-Scholes model and the actual price could be explained by lack of liquidity, especially in options with low strike price, and/or differences in the implied volatility. "
   ]
  },
  {
   "cell_type": "markdown",
   "metadata": {},
   "source": [
    "__References:__<p>&nbsp;</p> \n",
    "- Investopedia (2020). Black Scholes Model https://www.investopedia.com/terms/b/blackscholes.asp\n",
    "- John C. Hull (2016). Fundamentals of Futures and Options Markets, 9th Ed, Ch 13"
   ]
  }
 ],
 "metadata": {
  "kernelspec": {
   "display_name": "Python 3",
   "language": "python",
   "name": "python3"
  },
  "language_info": {
   "codemirror_mode": {
    "name": "ipython",
    "version": 3
   },
   "file_extension": ".py",
   "mimetype": "text/x-python",
   "name": "python",
   "nbconvert_exporter": "python",
   "pygments_lexer": "ipython3",
   "version": "3.7.6"
  }
 },
 "nbformat": 4,
 "nbformat_minor": 4
}
