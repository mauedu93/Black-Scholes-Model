{
 "cells": [
  {
   "cell_type": "markdown",
   "metadata": {},
   "source": [
    "# Black Scholes Model"
   ]
  },
  {
   "cell_type": "markdown",
   "metadata": {},
   "source": [
    "The Black-Scholes Model was developed by professor Fisher Black, Myron Scholes, and Robert Merton. The model is used to value option contracts. The model makes the following assumptions: \n",
    "- Lognormal distribution for the stock price\n",
    "- There are no transaction costs or taxes\n",
    "- There is no cash flow from the underlying asset during the time to maturity of the option\n",
    "- There are no arbitrage opportunities\n",
    "- Investors can borrow or lend at the risk-free rate \n",
    "- The risk-free rate is constant\n",
    "- The model is based on European-style options\n"
   ]
  },
  {
   "cell_type": "markdown",
   "metadata": {},
   "source": [
    "The key concept from the mathematical model is that the option and the stock price depend on the same underlying source of uncertainty. This uncertainty could be eliminated by constructing a portfolio with the stock and the option. This portfolio should be instantaneously riskless and earn the risk-free rate. The portfolio will require continuous rebalancing."
   ]
  },
  {
   "cell_type": "markdown",
   "metadata": {},
   "source": [
    "The mathematical formula to calculate the call price of a European option is:"
   ]
  },
  {
   "cell_type": "markdown",
   "metadata": {},
   "source": [
    "\\begin{equation*}\n",
    "C = S_t N \\left(d1 \\right) - K e^{-rt} N \\left(d2 \\right)\n",
    "\\end{equation*}"
   ]
  },
  {
   "cell_type": "markdown",
   "metadata": {},
   "source": [
    "__Where:__\n",
    "\n",
    "\\begin{equation*}\n",
    "d1 = \\frac{ \\ln{ \\frac{S_t}{K} + \\left(r + \\frac{\\sigma_u^2}{2} \\right) t} }{\\sigma_s \\sqrt{t}}\n",
    "\\end{equation*}\n",
    "\n",
    "and:\n",
    "\n",
    "\\begin{equation*}\n",
    "d2 = d1 -  \\sigma_s \\sqrt{t}\n",
    "\\end{equation*}\n"
   ]
  },
  {
   "cell_type": "markdown",
   "metadata": {},
   "source": [
    "__Where:__\n",
    "\n",
    "\\begin{alignat*}{1}\n",
    "&C \\quad & = \\quad & \\text{Call option price} \\\\\n",
    "&S \\quad & = \\quad & \\text{Current stock (or other underlying) price} \\\\\n",
    "&K \\quad & = \\quad & \\text{Strike price} \\\\\n",
    "&r \\quad & = \\quad & \\text{Risk-free interest rate} \\\\\n",
    "&t \\quad & = \\quad & \\text{time to maturity} \\\\\n",
    "&N \\quad & = \\quad & \\text{A normal distribution}\n",
    "\\end{alignat*}"
   ]
  },
  {
   "cell_type": "markdown",
   "metadata": {},
   "source": [
    "In this notebook, I will develop a process to calculate the call price of any option given all the parameters required in the Black-Scholes model. To do that, I will use Python, specifically Yfinance and Quandl, libraries to obtain the required data."
   ]
  },
  {
   "cell_type": "markdown",
   "metadata": {},
   "source": [
    "First, let's import the necessary libraries to make the analysis.\n",
    "\n",
    "__Note:__ Some libraries might not be pre-installed so the reader will need to uncomment the line code to install them. "
   ]
  },
  {
   "cell_type": "code",
   "execution_count": 1,
   "metadata": {},
   "outputs": [],
   "source": [
    "#pip install stockquotes\n",
    "#pip install Quandl\n",
    "\n",
    "import math\n",
    "import scipy.stats as st\n",
    "import yfinance as yf\n",
    "from datetime import datetime\n",
    "from datetime import timedelta\n",
    "import stockquotes\n",
    "import quandl\n",
    "import numpy as np\n",
    "import matplotlib.pyplot as plt\n",
    "import pandas as pd\n",
    "import os\n",
    "\n",
    "%matplotlib inline"
   ]
  },
  {
   "cell_type": "markdown",
   "metadata": {},
   "source": [
    "I will use the Quandl library to obtain information about the risk-free rate. To use Quandl, you will need to set up an account and get an API key. The code to call Quandl API is <code>quandl.ApiConfig.api_key = 'YOUR KEY GOES HERE'</code>"
   ]
  },
  {
   "cell_type": "code",
   "execution_count": 2,
   "metadata": {},
   "outputs": [],
   "source": [
    "quandl.ApiConfig.api_key = os.environ.get('QUANDL_KEY')"
   ]
  },
  {
   "cell_type": "markdown",
   "metadata": {},
   "source": [
    "From the YFinance library, I will get the historical information of the S&P500."
   ]
  },
  {
   "cell_type": "code",
   "execution_count": 3,
   "metadata": {},
   "outputs": [],
   "source": [
    "GSPC = yf.Ticker('^GSPC')"
   ]
  },
  {
   "cell_type": "markdown",
   "metadata": {},
   "source": [
    "This library also allows getting the expiration dates for the options."
   ]
  },
  {
   "cell_type": "code",
   "execution_count": 4,
   "metadata": {},
   "outputs": [
    {
     "data": {
      "text/plain": [
       "('2020-12-17', '2021-12-16')"
      ]
     },
     "execution_count": 4,
     "metadata": {},
     "output_type": "execute_result"
    }
   ],
   "source": [
    "expirations = GSPC.options\n",
    "expirations"
   ]
  },
  {
   "cell_type": "markdown",
   "metadata": {},
   "source": [
    "Based on the expirations, I can get the option chain with the information required to calculate the option price using the Black-Scholes model. Let's have a look at the information available for the option chain on the S&P 500 with expiration on December 17, 2020."
   ]
  },
  {
   "cell_type": "code",
   "execution_count": 5,
   "metadata": {},
   "outputs": [
    {
     "data": {
      "text/plain": [
       "Options(calls=        contractSymbol       lastTradeDate  strike  lastPrice      bid  \\\n",
       "0   SPX201218C00100000 2020-06-17 17:28:59   100.0    3012.68  3060.70   \n",
       "1   SPX201218C00200000 2020-06-18 16:31:43   200.0    2878.00  2961.30   \n",
       "2   SPX201218C00300000 2020-07-09 20:55:27   300.0    2738.00  2861.20   \n",
       "3   SPX201218C00400000 2020-07-09 20:55:30   400.0    2638.40  2761.90   \n",
       "4   SPX201218C00500000 2020-07-09 20:55:30   500.0    1790.50  2661.70   \n",
       "..                 ...                 ...     ...        ...      ...   \n",
       "89  SPX201218C03800000 2020-07-10 18:36:17  3800.0      10.80    10.80   \n",
       "90  SPX201218C03900000 2020-07-10 20:00:09  3900.0       6.90     6.80   \n",
       "91  SPX201218C04000000 2020-07-10 17:42:18  4000.0       4.42     4.50   \n",
       "92  SPX201218C04100000 2020-07-10 18:03:25  4100.0       3.11     3.10   \n",
       "93  SPX201218C04200000 2020-07-08 13:30:02  4200.0       1.85     2.25   \n",
       "\n",
       "       ask  change  percentChange  volume  openInterest  impliedVolatility  \\\n",
       "0   3064.2    0.00       0.000000     345          3263           0.000010   \n",
       "1   2964.8    0.00       0.000000      73          3137           0.000010   \n",
       "2   2864.7    0.00       0.000000       8            86           0.000010   \n",
       "3   2765.3    0.00       0.000000       6            16           0.000010   \n",
       "4   2665.4    0.00       0.000000       0            59           0.000010   \n",
       "..     ...     ...            ...     ...           ...                ...   \n",
       "89    11.3    1.00      10.204082      86         14500           0.174306   \n",
       "90     7.3    1.39      25.226856       7          7223           0.177086   \n",
       "91     4.9    0.72      19.459460      10          7952           0.181069   \n",
       "92     3.5    0.23       7.986103       3          2142           0.186562   \n",
       "93     2.5    0.00       0.000000      60          2021           0.191567   \n",
       "\n",
       "    inTheMoney contractSize currency  \n",
       "0         True      REGULAR      USD  \n",
       "1         True      REGULAR      USD  \n",
       "2         True      REGULAR      USD  \n",
       "3         True      REGULAR      USD  \n",
       "4         True      REGULAR      USD  \n",
       "..         ...          ...      ...  \n",
       "89       False      REGULAR      USD  \n",
       "90       False      REGULAR      USD  \n",
       "91       False      REGULAR      USD  \n",
       "92       False      REGULAR      USD  \n",
       "93       False      REGULAR      USD  \n",
       "\n",
       "[94 rows x 14 columns], puts=         contractSymbol       lastTradeDate  strike  lastPrice      bid  \\\n",
       "0    SPX201218P00100000 2020-07-02 14:00:25   100.0       0.07     0.00   \n",
       "1    SPX201218P00200000 2020-07-10 14:22:37   200.0       0.15     0.10   \n",
       "2    SPX201218P00300000 2020-07-10 18:28:08   300.0       0.25     0.15   \n",
       "3    SPX201218P00400000 2020-07-10 19:38:48   400.0       0.40     0.35   \n",
       "4    SPX201218P00500000 2020-07-09 14:20:06   500.0       0.70     0.60   \n",
       "..                  ...                 ...     ...        ...      ...   \n",
       "107  SPX201218P03800000 2020-06-24 13:36:35  3800.0     716.74   640.40   \n",
       "108  SPX201218P03900000 2020-07-09 16:05:10  3900.0     786.07   736.70   \n",
       "109  SPX201218P04000000 2020-07-07 19:58:16  4000.0     876.30   833.80   \n",
       "110  SPX201218P04100000 2020-07-09 20:56:15  4100.0    1160.07   932.80   \n",
       "111  SPX201218P04200000 2020-07-09 20:56:15  4200.0    1381.95  1031.10   \n",
       "\n",
       "         ask  change  percentChange  volume  openInterest  impliedVolatility  \\\n",
       "0       0.10    0.00       0.000000       1         20640           1.539065   \n",
       "1       0.15    0.00       0.000000       5          6958           1.304691   \n",
       "2       0.25   -0.10     -28.571426       2          5626           1.150395   \n",
       "3       0.45   -0.15     -27.272728       3          7169           1.070805   \n",
       "4       0.65   -0.10     -12.500003       2          7015           0.995606   \n",
       "..       ...     ...            ...     ...           ...                ...   \n",
       "107   644.10    0.00       0.000000       1            56           0.222222   \n",
       "108   740.20    0.00       0.000000       2            93           0.234955   \n",
       "109   837.50    0.00       0.000000       1            74           0.248306   \n",
       "110   936.20    0.00       0.000000       1           513           0.263824   \n",
       "111  1034.80    0.00       0.000000     500           514           0.277790   \n",
       "\n",
       "     inTheMoney contractSize currency  \n",
       "0         False      REGULAR      USD  \n",
       "1         False      REGULAR      USD  \n",
       "2         False      REGULAR      USD  \n",
       "3         False      REGULAR      USD  \n",
       "4         False      REGULAR      USD  \n",
       "..          ...          ...      ...  \n",
       "107        True      REGULAR      USD  \n",
       "108        True      REGULAR      USD  \n",
       "109        True      REGULAR      USD  \n",
       "110        True      REGULAR      USD  \n",
       "111        True      REGULAR      USD  \n",
       "\n",
       "[112 rows x 14 columns])"
      ]
     },
     "execution_count": 5,
     "metadata": {},
     "output_type": "execute_result"
    }
   ],
   "source": [
    "GSPC_opts = GSPC.option_chain(expirations[0])\n",
    "GSPC_opts"
   ]
  },
  {
   "cell_type": "markdown",
   "metadata": {},
   "source": [
    "This analysis will focus only on calculating the call price; however, once a put price formula is defined the reader can easily run the code with all the variables already defined in this notebook. Let's have a look at the DataFrame generated from YFinance."
   ]
  },
  {
   "cell_type": "code",
   "execution_count": 6,
   "metadata": {},
   "outputs": [
    {
     "data": {
      "text/html": [
       "<div>\n",
       "<style scoped>\n",
       "    .dataframe tbody tr th:only-of-type {\n",
       "        vertical-align: middle;\n",
       "    }\n",
       "\n",
       "    .dataframe tbody tr th {\n",
       "        vertical-align: top;\n",
       "    }\n",
       "\n",
       "    .dataframe thead th {\n",
       "        text-align: right;\n",
       "    }\n",
       "</style>\n",
       "<table border=\"1\" class=\"dataframe\">\n",
       "  <thead>\n",
       "    <tr style=\"text-align: right;\">\n",
       "      <th></th>\n",
       "      <th>contractSymbol</th>\n",
       "      <th>lastTradeDate</th>\n",
       "      <th>strike</th>\n",
       "      <th>lastPrice</th>\n",
       "      <th>bid</th>\n",
       "      <th>ask</th>\n",
       "      <th>change</th>\n",
       "      <th>percentChange</th>\n",
       "      <th>volume</th>\n",
       "      <th>openInterest</th>\n",
       "      <th>impliedVolatility</th>\n",
       "      <th>inTheMoney</th>\n",
       "      <th>contractSize</th>\n",
       "      <th>currency</th>\n",
       "    </tr>\n",
       "  </thead>\n",
       "  <tbody>\n",
       "    <tr>\n",
       "      <th>0</th>\n",
       "      <td>SPX201218C00100000</td>\n",
       "      <td>2020-06-17 17:28:59</td>\n",
       "      <td>100.0</td>\n",
       "      <td>3012.68</td>\n",
       "      <td>3060.70</td>\n",
       "      <td>3064.2</td>\n",
       "      <td>0.00</td>\n",
       "      <td>0.000000</td>\n",
       "      <td>345</td>\n",
       "      <td>3263</td>\n",
       "      <td>0.000010</td>\n",
       "      <td>True</td>\n",
       "      <td>REGULAR</td>\n",
       "      <td>USD</td>\n",
       "    </tr>\n",
       "    <tr>\n",
       "      <th>1</th>\n",
       "      <td>SPX201218C00200000</td>\n",
       "      <td>2020-06-18 16:31:43</td>\n",
       "      <td>200.0</td>\n",
       "      <td>2878.00</td>\n",
       "      <td>2961.30</td>\n",
       "      <td>2964.8</td>\n",
       "      <td>0.00</td>\n",
       "      <td>0.000000</td>\n",
       "      <td>73</td>\n",
       "      <td>3137</td>\n",
       "      <td>0.000010</td>\n",
       "      <td>True</td>\n",
       "      <td>REGULAR</td>\n",
       "      <td>USD</td>\n",
       "    </tr>\n",
       "    <tr>\n",
       "      <th>2</th>\n",
       "      <td>SPX201218C00300000</td>\n",
       "      <td>2020-07-09 20:55:27</td>\n",
       "      <td>300.0</td>\n",
       "      <td>2738.00</td>\n",
       "      <td>2861.20</td>\n",
       "      <td>2864.7</td>\n",
       "      <td>0.00</td>\n",
       "      <td>0.000000</td>\n",
       "      <td>8</td>\n",
       "      <td>86</td>\n",
       "      <td>0.000010</td>\n",
       "      <td>True</td>\n",
       "      <td>REGULAR</td>\n",
       "      <td>USD</td>\n",
       "    </tr>\n",
       "    <tr>\n",
       "      <th>3</th>\n",
       "      <td>SPX201218C00400000</td>\n",
       "      <td>2020-07-09 20:55:30</td>\n",
       "      <td>400.0</td>\n",
       "      <td>2638.40</td>\n",
       "      <td>2761.90</td>\n",
       "      <td>2765.3</td>\n",
       "      <td>0.00</td>\n",
       "      <td>0.000000</td>\n",
       "      <td>6</td>\n",
       "      <td>16</td>\n",
       "      <td>0.000010</td>\n",
       "      <td>True</td>\n",
       "      <td>REGULAR</td>\n",
       "      <td>USD</td>\n",
       "    </tr>\n",
       "    <tr>\n",
       "      <th>4</th>\n",
       "      <td>SPX201218C00500000</td>\n",
       "      <td>2020-07-09 20:55:30</td>\n",
       "      <td>500.0</td>\n",
       "      <td>1790.50</td>\n",
       "      <td>2661.70</td>\n",
       "      <td>2665.4</td>\n",
       "      <td>0.00</td>\n",
       "      <td>0.000000</td>\n",
       "      <td>0</td>\n",
       "      <td>59</td>\n",
       "      <td>0.000010</td>\n",
       "      <td>True</td>\n",
       "      <td>REGULAR</td>\n",
       "      <td>USD</td>\n",
       "    </tr>\n",
       "    <tr>\n",
       "      <th>...</th>\n",
       "      <td>...</td>\n",
       "      <td>...</td>\n",
       "      <td>...</td>\n",
       "      <td>...</td>\n",
       "      <td>...</td>\n",
       "      <td>...</td>\n",
       "      <td>...</td>\n",
       "      <td>...</td>\n",
       "      <td>...</td>\n",
       "      <td>...</td>\n",
       "      <td>...</td>\n",
       "      <td>...</td>\n",
       "      <td>...</td>\n",
       "      <td>...</td>\n",
       "    </tr>\n",
       "    <tr>\n",
       "      <th>89</th>\n",
       "      <td>SPX201218C03800000</td>\n",
       "      <td>2020-07-10 18:36:17</td>\n",
       "      <td>3800.0</td>\n",
       "      <td>10.80</td>\n",
       "      <td>10.80</td>\n",
       "      <td>11.3</td>\n",
       "      <td>1.00</td>\n",
       "      <td>10.204082</td>\n",
       "      <td>86</td>\n",
       "      <td>14500</td>\n",
       "      <td>0.174306</td>\n",
       "      <td>False</td>\n",
       "      <td>REGULAR</td>\n",
       "      <td>USD</td>\n",
       "    </tr>\n",
       "    <tr>\n",
       "      <th>90</th>\n",
       "      <td>SPX201218C03900000</td>\n",
       "      <td>2020-07-10 20:00:09</td>\n",
       "      <td>3900.0</td>\n",
       "      <td>6.90</td>\n",
       "      <td>6.80</td>\n",
       "      <td>7.3</td>\n",
       "      <td>1.39</td>\n",
       "      <td>25.226856</td>\n",
       "      <td>7</td>\n",
       "      <td>7223</td>\n",
       "      <td>0.177086</td>\n",
       "      <td>False</td>\n",
       "      <td>REGULAR</td>\n",
       "      <td>USD</td>\n",
       "    </tr>\n",
       "    <tr>\n",
       "      <th>91</th>\n",
       "      <td>SPX201218C04000000</td>\n",
       "      <td>2020-07-10 17:42:18</td>\n",
       "      <td>4000.0</td>\n",
       "      <td>4.42</td>\n",
       "      <td>4.50</td>\n",
       "      <td>4.9</td>\n",
       "      <td>0.72</td>\n",
       "      <td>19.459460</td>\n",
       "      <td>10</td>\n",
       "      <td>7952</td>\n",
       "      <td>0.181069</td>\n",
       "      <td>False</td>\n",
       "      <td>REGULAR</td>\n",
       "      <td>USD</td>\n",
       "    </tr>\n",
       "    <tr>\n",
       "      <th>92</th>\n",
       "      <td>SPX201218C04100000</td>\n",
       "      <td>2020-07-10 18:03:25</td>\n",
       "      <td>4100.0</td>\n",
       "      <td>3.11</td>\n",
       "      <td>3.10</td>\n",
       "      <td>3.5</td>\n",
       "      <td>0.23</td>\n",
       "      <td>7.986103</td>\n",
       "      <td>3</td>\n",
       "      <td>2142</td>\n",
       "      <td>0.186562</td>\n",
       "      <td>False</td>\n",
       "      <td>REGULAR</td>\n",
       "      <td>USD</td>\n",
       "    </tr>\n",
       "    <tr>\n",
       "      <th>93</th>\n",
       "      <td>SPX201218C04200000</td>\n",
       "      <td>2020-07-08 13:30:02</td>\n",
       "      <td>4200.0</td>\n",
       "      <td>1.85</td>\n",
       "      <td>2.25</td>\n",
       "      <td>2.5</td>\n",
       "      <td>0.00</td>\n",
       "      <td>0.000000</td>\n",
       "      <td>60</td>\n",
       "      <td>2021</td>\n",
       "      <td>0.191567</td>\n",
       "      <td>False</td>\n",
       "      <td>REGULAR</td>\n",
       "      <td>USD</td>\n",
       "    </tr>\n",
       "  </tbody>\n",
       "</table>\n",
       "<p>94 rows × 14 columns</p>\n",
       "</div>"
      ],
      "text/plain": [
       "        contractSymbol       lastTradeDate  strike  lastPrice      bid  \\\n",
       "0   SPX201218C00100000 2020-06-17 17:28:59   100.0    3012.68  3060.70   \n",
       "1   SPX201218C00200000 2020-06-18 16:31:43   200.0    2878.00  2961.30   \n",
       "2   SPX201218C00300000 2020-07-09 20:55:27   300.0    2738.00  2861.20   \n",
       "3   SPX201218C00400000 2020-07-09 20:55:30   400.0    2638.40  2761.90   \n",
       "4   SPX201218C00500000 2020-07-09 20:55:30   500.0    1790.50  2661.70   \n",
       "..                 ...                 ...     ...        ...      ...   \n",
       "89  SPX201218C03800000 2020-07-10 18:36:17  3800.0      10.80    10.80   \n",
       "90  SPX201218C03900000 2020-07-10 20:00:09  3900.0       6.90     6.80   \n",
       "91  SPX201218C04000000 2020-07-10 17:42:18  4000.0       4.42     4.50   \n",
       "92  SPX201218C04100000 2020-07-10 18:03:25  4100.0       3.11     3.10   \n",
       "93  SPX201218C04200000 2020-07-08 13:30:02  4200.0       1.85     2.25   \n",
       "\n",
       "       ask  change  percentChange  volume  openInterest  impliedVolatility  \\\n",
       "0   3064.2    0.00       0.000000     345          3263           0.000010   \n",
       "1   2964.8    0.00       0.000000      73          3137           0.000010   \n",
       "2   2864.7    0.00       0.000000       8            86           0.000010   \n",
       "3   2765.3    0.00       0.000000       6            16           0.000010   \n",
       "4   2665.4    0.00       0.000000       0            59           0.000010   \n",
       "..     ...     ...            ...     ...           ...                ...   \n",
       "89    11.3    1.00      10.204082      86         14500           0.174306   \n",
       "90     7.3    1.39      25.226856       7          7223           0.177086   \n",
       "91     4.9    0.72      19.459460      10          7952           0.181069   \n",
       "92     3.5    0.23       7.986103       3          2142           0.186562   \n",
       "93     2.5    0.00       0.000000      60          2021           0.191567   \n",
       "\n",
       "    inTheMoney contractSize currency  \n",
       "0         True      REGULAR      USD  \n",
       "1         True      REGULAR      USD  \n",
       "2         True      REGULAR      USD  \n",
       "3         True      REGULAR      USD  \n",
       "4         True      REGULAR      USD  \n",
       "..         ...          ...      ...  \n",
       "89       False      REGULAR      USD  \n",
       "90       False      REGULAR      USD  \n",
       "91       False      REGULAR      USD  \n",
       "92       False      REGULAR      USD  \n",
       "93       False      REGULAR      USD  \n",
       "\n",
       "[94 rows x 14 columns]"
      ]
     },
     "execution_count": 6,
     "metadata": {},
     "output_type": "execute_result"
    }
   ],
   "source": [
    "GSPC_calls = GSPC_opts.calls\n",
    "GSPC_calls"
   ]
  },
  {
   "cell_type": "markdown",
   "metadata": {},
   "source": [
    "From this dataFrame, I need the information related to the strike price and the implied volatility.\n",
    "\n",
    "We can save the strike price in a dictionary where the keys will be the different expiration dates and the values will be an array with all the strike prices available on the specific expiration date. "
   ]
  },
  {
   "cell_type": "code",
   "execution_count": 7,
   "metadata": {},
   "outputs": [],
   "source": [
    "K = {name: pd.DataFrame()for name in expirations}\n",
    "\n",
    "for i, a in enumerate(expirations):\n",
    "    GSPC_opts = GSPC.option_chain(expirations[i])\n",
    "    GSPC_calls = GSPC_opts.calls\n",
    "    K[a] = GSPC_calls['strike']"
   ]
  },
  {
   "cell_type": "markdown",
   "metadata": {},
   "source": [
    "Similarly, I can get a dictionary with information related to the implied volatility. Once again, the keys of the dictionary will be the different expiration dates and the values of the dictionary will be an array with the implied volatility corresponding to a determined strike price."
   ]
  },
  {
   "cell_type": "code",
   "execution_count": 8,
   "metadata": {},
   "outputs": [],
   "source": [
    "sigma = {name: pd.DataFrame() for name in expirations}\n",
    "\n",
    "for i, a in enumerate(expirations):\n",
    "    GSPC_opts = GSPC.option_chain(expirations[i])\n",
    "    GSPC_calls = GSPC_opts.calls\n",
    "    sigma[a] = GSPC_calls['impliedVolatility']"
   ]
  },
  {
   "cell_type": "markdown",
   "metadata": {},
   "source": [
    "With the same logic used before, I can get the time to maturity for each expiration date. I will define a dictionary where the keys are the different expiration dates available, and the values of the dictionary are the difference between the current date and the expiration date. However, in this case, values are not an array of data, instead, the values are a scalar."
   ]
  },
  {
   "cell_type": "code",
   "execution_count": 9,
   "metadata": {},
   "outputs": [],
   "source": [
    "t = {name: pd.DataFrame() for name in expirations}\n",
    "\n",
    "for i, a in enumerate(expirations):\n",
    "    expiration_date = datetime.strptime(expirations[i],\"%Y-%m-%d\") \n",
    "    today = datetime.now()\n",
    "    t[a] = (expiration_date - today).days/365"
   ]
  },
  {
   "cell_type": "markdown",
   "metadata": {},
   "source": [
    "Using the Quandl library, I can get access to the daily Treasury Yield Curve and saved it in a variable called <code>yield_curve</code>. To get the yield curve, I used the get module as follows: <code>quandl.get(\"USTREASURY/YIELD\", authtoken=\"YOUR TOKEN GOES HERE\")</code>"
   ]
  },
  {
   "cell_type": "code",
   "execution_count": 11,
   "metadata": {},
   "outputs": [
    {
     "data": {
      "text/html": [
       "<div>\n",
       "<style scoped>\n",
       "    .dataframe tbody tr th:only-of-type {\n",
       "        vertical-align: middle;\n",
       "    }\n",
       "\n",
       "    .dataframe tbody tr th {\n",
       "        vertical-align: top;\n",
       "    }\n",
       "\n",
       "    .dataframe thead th {\n",
       "        text-align: right;\n",
       "    }\n",
       "</style>\n",
       "<table border=\"1\" class=\"dataframe\">\n",
       "  <thead>\n",
       "    <tr style=\"text-align: right;\">\n",
       "      <th></th>\n",
       "      <th>1 MO</th>\n",
       "      <th>2 MO</th>\n",
       "      <th>3 MO</th>\n",
       "      <th>6 MO</th>\n",
       "      <th>1 YR</th>\n",
       "      <th>2 YR</th>\n",
       "      <th>3 YR</th>\n",
       "      <th>5 YR</th>\n",
       "      <th>7 YR</th>\n",
       "      <th>10 YR</th>\n",
       "      <th>20 YR</th>\n",
       "      <th>30 YR</th>\n",
       "    </tr>\n",
       "    <tr>\n",
       "      <th>Date</th>\n",
       "      <th></th>\n",
       "      <th></th>\n",
       "      <th></th>\n",
       "      <th></th>\n",
       "      <th></th>\n",
       "      <th></th>\n",
       "      <th></th>\n",
       "      <th></th>\n",
       "      <th></th>\n",
       "      <th></th>\n",
       "      <th></th>\n",
       "      <th></th>\n",
       "    </tr>\n",
       "  </thead>\n",
       "  <tbody>\n",
       "    <tr>\n",
       "      <th>1990-01-02</th>\n",
       "      <td>NaN</td>\n",
       "      <td>NaN</td>\n",
       "      <td>7.83</td>\n",
       "      <td>7.89</td>\n",
       "      <td>7.81</td>\n",
       "      <td>7.87</td>\n",
       "      <td>7.90</td>\n",
       "      <td>7.87</td>\n",
       "      <td>7.98</td>\n",
       "      <td>7.94</td>\n",
       "      <td>NaN</td>\n",
       "      <td>8.00</td>\n",
       "    </tr>\n",
       "    <tr>\n",
       "      <th>1990-01-03</th>\n",
       "      <td>NaN</td>\n",
       "      <td>NaN</td>\n",
       "      <td>7.89</td>\n",
       "      <td>7.94</td>\n",
       "      <td>7.85</td>\n",
       "      <td>7.94</td>\n",
       "      <td>7.96</td>\n",
       "      <td>7.92</td>\n",
       "      <td>8.04</td>\n",
       "      <td>7.99</td>\n",
       "      <td>NaN</td>\n",
       "      <td>8.04</td>\n",
       "    </tr>\n",
       "    <tr>\n",
       "      <th>1990-01-04</th>\n",
       "      <td>NaN</td>\n",
       "      <td>NaN</td>\n",
       "      <td>7.84</td>\n",
       "      <td>7.90</td>\n",
       "      <td>7.82</td>\n",
       "      <td>7.92</td>\n",
       "      <td>7.93</td>\n",
       "      <td>7.91</td>\n",
       "      <td>8.02</td>\n",
       "      <td>7.98</td>\n",
       "      <td>NaN</td>\n",
       "      <td>8.04</td>\n",
       "    </tr>\n",
       "    <tr>\n",
       "      <th>1990-01-05</th>\n",
       "      <td>NaN</td>\n",
       "      <td>NaN</td>\n",
       "      <td>7.79</td>\n",
       "      <td>7.85</td>\n",
       "      <td>7.79</td>\n",
       "      <td>7.90</td>\n",
       "      <td>7.94</td>\n",
       "      <td>7.92</td>\n",
       "      <td>8.03</td>\n",
       "      <td>7.99</td>\n",
       "      <td>NaN</td>\n",
       "      <td>8.06</td>\n",
       "    </tr>\n",
       "    <tr>\n",
       "      <th>1990-01-08</th>\n",
       "      <td>NaN</td>\n",
       "      <td>NaN</td>\n",
       "      <td>7.79</td>\n",
       "      <td>7.88</td>\n",
       "      <td>7.81</td>\n",
       "      <td>7.90</td>\n",
       "      <td>7.95</td>\n",
       "      <td>7.92</td>\n",
       "      <td>8.05</td>\n",
       "      <td>8.02</td>\n",
       "      <td>NaN</td>\n",
       "      <td>8.09</td>\n",
       "    </tr>\n",
       "    <tr>\n",
       "      <th>...</th>\n",
       "      <td>...</td>\n",
       "      <td>...</td>\n",
       "      <td>...</td>\n",
       "      <td>...</td>\n",
       "      <td>...</td>\n",
       "      <td>...</td>\n",
       "      <td>...</td>\n",
       "      <td>...</td>\n",
       "      <td>...</td>\n",
       "      <td>...</td>\n",
       "      <td>...</td>\n",
       "      <td>...</td>\n",
       "    </tr>\n",
       "    <tr>\n",
       "      <th>2020-07-02</th>\n",
       "      <td>0.13</td>\n",
       "      <td>0.14</td>\n",
       "      <td>0.14</td>\n",
       "      <td>0.16</td>\n",
       "      <td>0.16</td>\n",
       "      <td>0.16</td>\n",
       "      <td>0.19</td>\n",
       "      <td>0.29</td>\n",
       "      <td>0.50</td>\n",
       "      <td>0.68</td>\n",
       "      <td>1.20</td>\n",
       "      <td>1.43</td>\n",
       "    </tr>\n",
       "    <tr>\n",
       "      <th>2020-07-06</th>\n",
       "      <td>0.12</td>\n",
       "      <td>0.14</td>\n",
       "      <td>0.15</td>\n",
       "      <td>0.16</td>\n",
       "      <td>0.16</td>\n",
       "      <td>0.16</td>\n",
       "      <td>0.19</td>\n",
       "      <td>0.31</td>\n",
       "      <td>0.51</td>\n",
       "      <td>0.69</td>\n",
       "      <td>1.21</td>\n",
       "      <td>1.45</td>\n",
       "    </tr>\n",
       "    <tr>\n",
       "      <th>2020-07-07</th>\n",
       "      <td>0.12</td>\n",
       "      <td>0.14</td>\n",
       "      <td>0.15</td>\n",
       "      <td>0.17</td>\n",
       "      <td>0.15</td>\n",
       "      <td>0.16</td>\n",
       "      <td>0.19</td>\n",
       "      <td>0.29</td>\n",
       "      <td>0.48</td>\n",
       "      <td>0.65</td>\n",
       "      <td>1.15</td>\n",
       "      <td>1.38</td>\n",
       "    </tr>\n",
       "    <tr>\n",
       "      <th>2020-07-08</th>\n",
       "      <td>0.11</td>\n",
       "      <td>0.13</td>\n",
       "      <td>0.15</td>\n",
       "      <td>0.17</td>\n",
       "      <td>0.15</td>\n",
       "      <td>0.16</td>\n",
       "      <td>0.19</td>\n",
       "      <td>0.30</td>\n",
       "      <td>0.49</td>\n",
       "      <td>0.67</td>\n",
       "      <td>1.16</td>\n",
       "      <td>1.39</td>\n",
       "    </tr>\n",
       "    <tr>\n",
       "      <th>2020-07-09</th>\n",
       "      <td>0.11</td>\n",
       "      <td>0.12</td>\n",
       "      <td>0.13</td>\n",
       "      <td>0.16</td>\n",
       "      <td>0.15</td>\n",
       "      <td>0.16</td>\n",
       "      <td>0.18</td>\n",
       "      <td>0.28</td>\n",
       "      <td>0.46</td>\n",
       "      <td>0.62</td>\n",
       "      <td>1.09</td>\n",
       "      <td>1.32</td>\n",
       "    </tr>\n",
       "  </tbody>\n",
       "</table>\n",
       "<p>7636 rows × 12 columns</p>\n",
       "</div>"
      ],
      "text/plain": [
       "            1 MO  2 MO  3 MO  6 MO  1 YR  2 YR  3 YR  5 YR  7 YR  10 YR  \\\n",
       "Date                                                                      \n",
       "1990-01-02   NaN   NaN  7.83  7.89  7.81  7.87  7.90  7.87  7.98   7.94   \n",
       "1990-01-03   NaN   NaN  7.89  7.94  7.85  7.94  7.96  7.92  8.04   7.99   \n",
       "1990-01-04   NaN   NaN  7.84  7.90  7.82  7.92  7.93  7.91  8.02   7.98   \n",
       "1990-01-05   NaN   NaN  7.79  7.85  7.79  7.90  7.94  7.92  8.03   7.99   \n",
       "1990-01-08   NaN   NaN  7.79  7.88  7.81  7.90  7.95  7.92  8.05   8.02   \n",
       "...          ...   ...   ...   ...   ...   ...   ...   ...   ...    ...   \n",
       "2020-07-02  0.13  0.14  0.14  0.16  0.16  0.16  0.19  0.29  0.50   0.68   \n",
       "2020-07-06  0.12  0.14  0.15  0.16  0.16  0.16  0.19  0.31  0.51   0.69   \n",
       "2020-07-07  0.12  0.14  0.15  0.17  0.15  0.16  0.19  0.29  0.48   0.65   \n",
       "2020-07-08  0.11  0.13  0.15  0.17  0.15  0.16  0.19  0.30  0.49   0.67   \n",
       "2020-07-09  0.11  0.12  0.13  0.16  0.15  0.16  0.18  0.28  0.46   0.62   \n",
       "\n",
       "            20 YR  30 YR  \n",
       "Date                      \n",
       "1990-01-02    NaN   8.00  \n",
       "1990-01-03    NaN   8.04  \n",
       "1990-01-04    NaN   8.04  \n",
       "1990-01-05    NaN   8.06  \n",
       "1990-01-08    NaN   8.09  \n",
       "...           ...    ...  \n",
       "2020-07-02   1.20   1.43  \n",
       "2020-07-06   1.21   1.45  \n",
       "2020-07-07   1.15   1.38  \n",
       "2020-07-08   1.16   1.39  \n",
       "2020-07-09   1.09   1.32  \n",
       "\n",
       "[7636 rows x 12 columns]"
      ]
     },
     "execution_count": 11,
     "metadata": {},
     "output_type": "execute_result"
    }
   ],
   "source": [
    "yield_curve = quandl.get(\"USTREASURY/YIELD\", authtoken = os.environ.get('QUANDL_KEY'))\n",
    "yield_curve"
   ]
  },
  {
   "cell_type": "markdown",
   "metadata": {},
   "source": [
    "Now, I will define a function that allows me to calculate the time to maturity of the option based on the expiration date. The next step will be to match this time to maturity with the most appropriate treasury yield.\n",
    "\n",
    "To achieve this matching task, I will define a function that browses through the list of available treasury maturities and matches the time to maturity of the option with the corresponding yield of the closest greater treasury maturity."
   ]
  },
  {
   "cell_type": "code",
   "execution_count": 12,
   "metadata": {},
   "outputs": [],
   "source": [
    "def TTM(exp_date,today):\n",
    "    time_to_maturity = (exp_date - today).days\n",
    "    return time_to_maturity\n",
    "\n",
    "def rf(exp_date,today):\n",
    "    num_days = [30,60,90,180,365,730,1095,1825,2555,3650,7300,10950]\n",
    "    rf_ttm = list(yield_curve.columns)\n",
    "    risk_free_L = []\n",
    "    if round(TTM(exp_date,today)) < 0:\n",
    "        return \"Expire date must be greater than today\"\n",
    "    elif round(TTM(exp_date,today)) > num_days[-1]: \n",
    "        return yield_curve[rf_ttm[-1]][-1]/100\n",
    "    else:\n",
    "        for b, f in zip(num_days, rf_ttm):\n",
    "                if round(TTM(expiration_date,today)) < b:\n",
    "                    risk_free_L.append(yield_curve[f][-1]/100)\n",
    "        return risk_free_L[0]"
   ]
  },
  {
   "cell_type": "markdown",
   "metadata": {},
   "source": [
    "With this last function defined, I can create a dictionary with the different risk-free rates relevant for each expiration. Again, the keys of the dictionary will be the expirations of the option and the values will be a scalar with the corresponding risk-free rate."
   ]
  },
  {
   "cell_type": "code",
   "execution_count": 13,
   "metadata": {},
   "outputs": [],
   "source": [
    "rf_rate = {name: pd.DataFrame() for name in expirations}\n",
    "\n",
    "for i, a in enumerate(expirations):\n",
    "    expiration_date = datetime.strptime(expirations[i],\"%Y-%m-%d\") \n",
    "    today = datetime.now()\n",
    "    rf_rate[a] = rf(expiration_date,today)"
   ]
  },
  {
   "cell_type": "markdown",
   "metadata": {},
   "source": [
    "The last variable needed to calculate the price of the call option is the current price of the security. This can be obtained from the stockquotes library through the <code>Stock</code> module."
   ]
  },
  {
   "cell_type": "code",
   "execution_count": 14,
   "metadata": {},
   "outputs": [],
   "source": [
    "SP500 = stockquotes.Stock(\"^GSPC\")\n",
    "S = SP500.current_price"
   ]
  },
  {
   "cell_type": "markdown",
   "metadata": {},
   "source": [
    "Now, let's develop the Black-Scholes model. I will define the model with 3 different functions; the advantage of this is that these functions could potentially  be used to create a Black-Scholes Class in Python for future development projects.\n",
    "\n",
    "The first function will calculate the expected value of the stock if the option is exercised using risk-adjusted probabilities. This is the equivalent of the term $\\begin{equation*}N \\left(d1 \\right)\\end{equation*}$. The function will return a tuple containing $\\begin{equation*}d1 \\end{equation*}$ and $\\begin{equation*}N \\left(d1 \\right)\\end{equation*}$."
   ]
  },
  {
   "cell_type": "code",
   "execution_count": 15,
   "metadata": {},
   "outputs": [],
   "source": [
    "def Norm_d1(S, K, r, t, sigma):\n",
    "    d1 = (np.log(S/K)+(r+((np.power(sigma,2)/2))*t))/(sigma*math.sqrt(t))\n",
    "    N_d1 = st.norm.cdf(d1)\n",
    "    return (d1, N_d1)"
   ]
  },
  {
   "cell_type": "markdown",
   "metadata": {},
   "source": [
    "The next function that I will define is the probability of the function to be exercised based on risk-adjusted probabilities. This is equivalent to the term $\\begin{equation*}N \\left(d2 \\right)\\end{equation*}$."
   ]
  },
  {
   "cell_type": "code",
   "execution_count": 16,
   "metadata": {},
   "outputs": [],
   "source": [
    "def Norm_d2(d1, sigma, t):\n",
    "    d2 = d1 - sigma*math.sqrt(t)\n",
    "    N_d2 = st.norm.cdf(d2)\n",
    "    return N_d2"
   ]
  },
  {
   "cell_type": "markdown",
   "metadata": {},
   "source": [
    "Lastly, I will define the function that will calculate the call price taking an input all the variables required in the model and using the previous two functions."
   ]
  },
  {
   "cell_type": "code",
   "execution_count": 17,
   "metadata": {},
   "outputs": [],
   "source": [
    "def Call_price(S, K, r, t, sigma):\n",
    "    d1, N_d1 = Norm_d1(S, K, r, t, sigma)\n",
    "    N_d2 = Norm_d2(d1, sigma, t)\n",
    "    C = S*N_d1-K*math.exp(-r*t)*N_d2\n",
    "    return C"
   ]
  },
  {
   "cell_type": "markdown",
   "metadata": {},
   "source": [
    "With the call price function define, I can create a dictionary that saves the array of call prices for different expiration dates. "
   ]
  },
  {
   "cell_type": "code",
   "execution_count": 18,
   "metadata": {},
   "outputs": [],
   "source": [
    "C = {name: pd.DataFrame() for name in expirations}\n",
    "\n",
    "for i, a in enumerate(expirations):\n",
    "    C[a] = Call_price(S, K[a], rf_rate[a], t[a], sigma[a])"
   ]
  },
  {
   "cell_type": "markdown",
   "metadata": {},
   "source": [
    "Let's visualize the results. The following graph will compare, for the two expirations available, the call price for different strike prices calculated using the Black-Scholes model and the actual price taken from the YFinance library. "
   ]
  },
  {
   "cell_type": "code",
   "execution_count": 19,
   "metadata": {},
   "outputs": [],
   "source": [
    "def callP_plot(n_rows, n_col, figure_size, expir_dates, subtitle=None):\n",
    "    fig,axs = plt.subplots(n_rows,n_col,figsize=figure_size)\n",
    "    if subtitle == None:\n",
    "        name = GSPC.info['shortName']\n",
    "        fig.suptitle(f'{name} Call Value vs. Strike Price',fontsize=18,fontweight='bold')\n",
    "    else:\n",
    "        fig.suptitle(subtitle,fontsize=18,fontweight='bold')\n",
    "    i, j = 0, 0\n",
    "    for n in (0,len(expir_dates)-1):\n",
    "        \n",
    "        if n_rows == 1:\n",
    "            ax = axs[j]\n",
    "        elif n_col == 1:\n",
    "            ax = axs[i]\n",
    "        else:\n",
    "            ax = axs[i,j]\n",
    "\n",
    "        ax.plot(K[expir_dates[n]], \n",
    "                    C[expir_dates[n]],\n",
    "                    'tab:red',\n",
    "                    linewidth=4.0,\n",
    "                    label='BSM model') #Plots the first expiration based on BSM model\n",
    "        ax.plot(K[expir_dates[n]], \n",
    "                    GSPC.option_chain(expir_dates[n]).calls['lastPrice'],\n",
    "                    'tab:cyan',\n",
    "                    linewidth=1.0, \n",
    "                    label='Market price') #Plots the first expiration based on actual market price\n",
    "        ax.legend(labelspacing=2,borderpad=1.25,fontsize=10) #Set legend \n",
    "        ax.set_xlim(xmin=0.0) #To start the graph on (0,0)\n",
    "        ax.set_ylim(ymin=0.0)\n",
    "        ax.set_xlabel(\"Strike Price\",fontsize=14) #Set X-axis label\n",
    "        ax.set_ylabel(\"Call Price\",fontsize=14) #Set Y-axis label\n",
    "        ax.set_title(f\"Expiration: {datetime.strptime(expir_dates[n],'%Y-%m-%d').strftime('%b %d, %Y')}\",\n",
    "                         fontsize=14) #Subtitle on the first figure\n",
    "        ax.spines['right'].set_visible(False) #Remove right border on the first subplot\n",
    "        ax.spines['top'].set_visible(False)  #Remove top border on the first subplot\n",
    "        \n",
    "        if i + 1 > n_rows - 1:\n",
    "            j = j + 1\n",
    "            i = 0\n",
    "        else:\n",
    "            i += 1\n",
    "    plt.show()\n",
    "\n",
    "    plt.close()    "
   ]
  },
  {
   "cell_type": "code",
   "execution_count": 20,
   "metadata": {
    "scrolled": false
   },
   "outputs": [
    {
     "data": {
      "image/png": "[encoded data removed]",
      "text/plain": [
       "<Figure size 1440x504 with 2 Axes>"
      ]
     },
     "metadata": {
      "needs_background": "light"
     },
     "output_type": "display_data"
    }
   ],
   "source": [
    "callP_plot(1,2,(20,7),expir_dates = expirations)"
   ]
  },
  {
   "cell_type": "markdown",
   "metadata": {},
   "source": [
    "The difference between the Black-Scholes model and the actual price could be explained by lack of liquidity, especially in options with low strike price, and/or differences in the implied volatility. "
   ]
  },
  {
   "cell_type": "markdown",
   "metadata": {},
   "source": [
    "__References:__<p>&nbsp;</p> \n",
    "- Investopedia (2020). Black Scholes Model https://www.investopedia.com/terms/b/blackscholes.asp\n",
    "- John C. Hull (2016). Fundamentals of Futures and Options Markets, 9th Ed, Ch 13"
   ]
  }
 ],
 "metadata": {
  "kernelspec": {
   "display_name": "Python 3",
   "language": "python",
   "name": "python3"
  },
  "language_info": {
   "codemirror_mode": {
    "name": "ipython",
    "version": 3
   },
   "file_extension": ".py",
   "mimetype": "text/x-python",
   "name": "python",
   "nbconvert_exporter": "python",
   "pygments_lexer": "ipython3",
   "version": "3.7.6"
  }
 },
 "nbformat": 4,
 "nbformat_minor": 4
}
