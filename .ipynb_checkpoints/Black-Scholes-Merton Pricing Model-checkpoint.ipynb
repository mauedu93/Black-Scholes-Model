{
 "cells": [
  {
   "cell_type": "markdown",
   "metadata": {},
   "source": [
    "# Black Scholes Model"
   ]
  },
  {
   "cell_type": "markdown",
   "metadata": {},
   "source": [
    "\\begin{equation*}\n",
    "C = S_t N \\left(d1 \\right) - K e^{-rt} N \\left(d2 \\right)\n",
    "\\end{equation*}"
   ]
  },
  {
   "cell_type": "markdown",
   "metadata": {},
   "source": [
    "__Where:__\n",
    "\n",
    "\\begin{equation*}\n",
    "d1 = \\frac{ \\ln{ \\frac{S_t}{K} + \\left(r + \\frac{\\sigma_u^2}{2} \\right) t} }{\\sigma_s \\sqrt{t}}\n",
    "\\end{equation*}\n",
    "\n",
    "and:\n",
    "\n",
    "\\begin{equation*}\n",
    "d2 = d1 -  \\sigma_s \\sqrt{t}\n",
    "\\end{equation*}\n"
   ]
  },
  {
   "cell_type": "markdown",
   "metadata": {},
   "source": [
    "__Where:__\n",
    "\n",
    "\\begin{alignat*}{}\n",
    "&C \\quad & = \\quad & \\text{Call option price} \\\\\n",
    "&S \\quad & = \\quad & \\text{Current stock (or other underlying) price} \\\\\n",
    "&K \\quad & = \\quad & \\text{Strike price} \\\\\n",
    "&r \\quad & = \\quad & \\text{Risk-free interest rate} \\\\\n",
    "&t \\quad & = \\quad & \\text{time to maturity} \\\\\n",
    "&N \\quad & = \\quad & \\text{A normal distribution}\n",
    "\\end{alignat*}"
   ]
  },
  {
   "cell_type": "code",
   "execution_count": 1,
   "metadata": {},
   "outputs": [],
   "source": [
    "#pip install stockquotes\n",
    "#pip install Quandl\n",
    "\n",
    "import math\n",
    "import scipy.stats as st\n",
    "import yfinance as yf\n",
    "from datetime import datetime\n",
    "from datetime import timedelta\n",
    "import stockquotes\n",
    "import quandl\n",
    "import numpy as np"
   ]
  },
  {
   "cell_type": "code",
   "execution_count": 2,
   "metadata": {},
   "outputs": [],
   "source": [
    "# @hidden_cell\n",
    "quandl.ApiConfig.api_key = 'JMxryiBcRV26o9r5q7uv'"
   ]
  },
  {
   "cell_type": "code",
   "execution_count": 3,
   "metadata": {},
   "outputs": [],
   "source": [
    "S = 3097.74\n",
    "K = 3100\n",
    "r = 0.0012\n",
    "t = 24/365\n",
    "sigma = 0.235957486878604\n"
   ]
  },
  {
   "cell_type": "code",
   "execution_count": 4,
   "metadata": {},
   "outputs": [
    {
     "data": {
      "text/plain": [
       "73.78307869939204"
      ]
     },
     "execution_count": 4,
     "metadata": {},
     "output_type": "execute_result"
    }
   ],
   "source": [
    "d1 = (math.log(S/K)+(r+((sigma**2)/2))*t)/(sigma*math.sqrt(t))\n",
    "d2 = d1 - sigma*math.sqrt(t)\n",
    "N_d1 = st.norm.cdf(d1)\n",
    "N_d2 = st.norm.cdf(d2)\n",
    "C = S*N_d1-K*math.exp(-r*t)*N_d2\n",
    "C"
   ]
  },
  {
   "cell_type": "code",
   "execution_count": 5,
   "metadata": {},
   "outputs": [],
   "source": [
    "GSPC = yf.Ticker('^GSPC')"
   ]
  },
  {
   "cell_type": "code",
   "execution_count": 6,
   "metadata": {},
   "outputs": [
    {
     "data": {
      "text/plain": [
       "('2020-12-17', '2021-12-16')"
      ]
     },
     "execution_count": 6,
     "metadata": {},
     "output_type": "execute_result"
    }
   ],
   "source": [
    "expirations = GSPC.options\n",
    "expirations"
   ]
  },
  {
   "cell_type": "code",
   "execution_count": 7,
   "metadata": {},
   "outputs": [
    {
     "data": {
      "text/plain": [
       "Options(calls=        contractSymbol       lastTradeDate  strike  lastPrice      bid  \\\n",
       "0   SPX201218C00100000 2020-06-17 17:28:59   100.0    3012.68  2922.30   \n",
       "1   SPX201218C00200000 2020-06-18 16:31:43   200.0    2878.00  2822.70   \n",
       "2   SPX201218C00300000 2020-06-02 19:11:54   300.0    2738.00  2707.80   \n",
       "3   SPX201218C00400000 2020-06-02 19:11:51   400.0    2638.40  2608.30   \n",
       "4   SPX201218C00500000 2020-06-09 23:08:40   500.0    1790.50  2621.20   \n",
       "..                 ...                 ...     ...        ...      ...   \n",
       "89  SPX201218C03800000 2020-06-29 19:42:31  3800.0       6.30     6.60   \n",
       "90  SPX201218C03900000 2020-06-29 19:45:49  3900.0       4.20     4.30   \n",
       "91  SPX201218C04000000 2020-06-29 19:39:22  4000.0       3.08     3.10   \n",
       "92  SPX201218C04100000 2020-06-29 19:36:24  4100.0       2.30     2.25   \n",
       "93  SPX201218C04200000 2020-06-29 14:38:18  4200.0       1.77     1.70   \n",
       "\n",
       "        ask  change  percentChange  volume  openInterest  impliedVolatility  \\\n",
       "0   2927.00     0.0            0.0     345          3263           0.000010   \n",
       "1   2827.00     0.0            0.0      73          3137           0.000010   \n",
       "2   2755.80     0.0            0.0       8            86           1.427493   \n",
       "3   2656.30     0.0            0.0       6            16           1.273563   \n",
       "4   2625.40     0.0            0.0       0            59           2.059957   \n",
       "..      ...     ...            ...     ...           ...                ...   \n",
       "89     6.90     0.0            0.0       1         14508           0.182213   \n",
       "90     4.70     0.0            0.0       2          7172           0.186287   \n",
       "91     3.40     0.0            0.0     102          7319           0.191811   \n",
       "92     2.45     0.0            0.0      12          2257           0.196724   \n",
       "93     1.85     0.0            0.0      16          1983           0.202462   \n",
       "\n",
       "    inTheMoney contractSize currency  \n",
       "0         True      REGULAR      USD  \n",
       "1         True      REGULAR      USD  \n",
       "2         True      REGULAR      USD  \n",
       "3         True      REGULAR      USD  \n",
       "4         True      REGULAR      USD  \n",
       "..         ...          ...      ...  \n",
       "89       False      REGULAR      USD  \n",
       "90       False      REGULAR      USD  \n",
       "91       False      REGULAR      USD  \n",
       "92       False      REGULAR      USD  \n",
       "93       False      REGULAR      USD  \n",
       "\n",
       "[94 rows x 14 columns], puts=         contractSymbol       lastTradeDate  strike  lastPrice      bid  \\\n",
       "0    SPX201218P00100000 2020-06-29 15:56:40   100.0       0.10     0.00   \n",
       "1    SPX201218P00200000 2020-06-26 18:33:37   200.0       0.15     0.05   \n",
       "2    SPX201218P00300000 2020-06-26 19:53:06   300.0       0.35     0.25   \n",
       "3    SPX201218P00400000 2020-06-29 13:30:02   400.0       0.80     0.60   \n",
       "4    SPX201218P00500000 2020-06-26 14:34:20   500.0       1.05     0.90   \n",
       "..                  ...                 ...     ...        ...      ...   \n",
       "107  SPX201218P03800000 2020-06-24 13:36:35  3800.0     716.74   774.40   \n",
       "108  SPX201218P03900000 2020-06-08 19:37:42  3900.0     707.02   863.70   \n",
       "109  SPX201218P04000000 2020-06-23 19:30:35  4000.0     885.75   969.80   \n",
       "110  SPX201218P04100000 2020-06-22 22:43:43  4100.0    1160.07   976.80   \n",
       "111  SPX201218P04200000 2020-06-09 23:09:27  4200.0    1381.95  1070.00   \n",
       "\n",
       "         ask  change  percentChange  volume  openInterest  impliedVolatility  \\\n",
       "0       0.15     0.0            0.0     202         20641           1.527346   \n",
       "1       0.20     0.0            0.0      16          6958           1.250004   \n",
       "2       0.45     0.0            0.0       1          5602           1.154789   \n",
       "3       0.80     0.0            0.0       1          7163           1.077641   \n",
       "4       1.15     0.0            0.0       1          6739           0.997070   \n",
       "..       ...     ...            ...     ...           ...                ...   \n",
       "107   779.00     0.0            0.0       1            56           0.260353   \n",
       "108   868.70     0.0            0.0       1            94           0.254829   \n",
       "109   974.30     0.0            0.0       5            84           0.289398   \n",
       "110   980.90     0.0            0.0       1           513           0.000010   \n",
       "111  1074.20     0.0            0.0     500           514           0.000010   \n",
       "\n",
       "     inTheMoney contractSize currency  \n",
       "0         False      REGULAR      USD  \n",
       "1         False      REGULAR      USD  \n",
       "2         False      REGULAR      USD  \n",
       "3         False      REGULAR      USD  \n",
       "4         False      REGULAR      USD  \n",
       "..          ...          ...      ...  \n",
       "107        True      REGULAR      USD  \n",
       "108        True      REGULAR      USD  \n",
       "109        True      REGULAR      USD  \n",
       "110        True      REGULAR      USD  \n",
       "111        True      REGULAR      USD  \n",
       "\n",
       "[112 rows x 14 columns])"
      ]
     },
     "execution_count": 7,
     "metadata": {},
     "output_type": "execute_result"
    }
   ],
   "source": [
    "GSPC_opts = GSPC.option_chain(expirations[0])\n",
    "GSPC_opts"
   ]
  },
  {
   "cell_type": "code",
   "execution_count": 8,
   "metadata": {},
   "outputs": [
    {
     "data": {
      "text/html": [
       "<div>\n",
       "<style scoped>\n",
       "    .dataframe tbody tr th:only-of-type {\n",
       "        vertical-align: middle;\n",
       "    }\n",
       "\n",
       "    .dataframe tbody tr th {\n",
       "        vertical-align: top;\n",
       "    }\n",
       "\n",
       "    .dataframe thead th {\n",
       "        text-align: right;\n",
       "    }\n",
       "</style>\n",
       "<table border=\"1\" class=\"dataframe\">\n",
       "  <thead>\n",
       "    <tr style=\"text-align: right;\">\n",
       "      <th></th>\n",
       "      <th>contractSymbol</th>\n",
       "      <th>lastTradeDate</th>\n",
       "      <th>strike</th>\n",
       "      <th>lastPrice</th>\n",
       "      <th>bid</th>\n",
       "      <th>ask</th>\n",
       "      <th>change</th>\n",
       "      <th>percentChange</th>\n",
       "      <th>volume</th>\n",
       "      <th>openInterest</th>\n",
       "      <th>impliedVolatility</th>\n",
       "      <th>inTheMoney</th>\n",
       "      <th>contractSize</th>\n",
       "      <th>currency</th>\n",
       "    </tr>\n",
       "  </thead>\n",
       "  <tbody>\n",
       "    <tr>\n",
       "      <th>0</th>\n",
       "      <td>SPX201218C00100000</td>\n",
       "      <td>2020-06-17 17:28:59</td>\n",
       "      <td>100.0</td>\n",
       "      <td>3012.68</td>\n",
       "      <td>2922.30</td>\n",
       "      <td>2927.00</td>\n",
       "      <td>0.0</td>\n",
       "      <td>0.0</td>\n",
       "      <td>345</td>\n",
       "      <td>3263</td>\n",
       "      <td>0.000010</td>\n",
       "      <td>True</td>\n",
       "      <td>REGULAR</td>\n",
       "      <td>USD</td>\n",
       "    </tr>\n",
       "    <tr>\n",
       "      <th>1</th>\n",
       "      <td>SPX201218C00200000</td>\n",
       "      <td>2020-06-18 16:31:43</td>\n",
       "      <td>200.0</td>\n",
       "      <td>2878.00</td>\n",
       "      <td>2822.70</td>\n",
       "      <td>2827.00</td>\n",
       "      <td>0.0</td>\n",
       "      <td>0.0</td>\n",
       "      <td>73</td>\n",
       "      <td>3137</td>\n",
       "      <td>0.000010</td>\n",
       "      <td>True</td>\n",
       "      <td>REGULAR</td>\n",
       "      <td>USD</td>\n",
       "    </tr>\n",
       "    <tr>\n",
       "      <th>2</th>\n",
       "      <td>SPX201218C00300000</td>\n",
       "      <td>2020-06-02 19:11:54</td>\n",
       "      <td>300.0</td>\n",
       "      <td>2738.00</td>\n",
       "      <td>2707.80</td>\n",
       "      <td>2755.80</td>\n",
       "      <td>0.0</td>\n",
       "      <td>0.0</td>\n",
       "      <td>8</td>\n",
       "      <td>86</td>\n",
       "      <td>1.427493</td>\n",
       "      <td>True</td>\n",
       "      <td>REGULAR</td>\n",
       "      <td>USD</td>\n",
       "    </tr>\n",
       "    <tr>\n",
       "      <th>3</th>\n",
       "      <td>SPX201218C00400000</td>\n",
       "      <td>2020-06-02 19:11:51</td>\n",
       "      <td>400.0</td>\n",
       "      <td>2638.40</td>\n",
       "      <td>2608.30</td>\n",
       "      <td>2656.30</td>\n",
       "      <td>0.0</td>\n",
       "      <td>0.0</td>\n",
       "      <td>6</td>\n",
       "      <td>16</td>\n",
       "      <td>1.273563</td>\n",
       "      <td>True</td>\n",
       "      <td>REGULAR</td>\n",
       "      <td>USD</td>\n",
       "    </tr>\n",
       "    <tr>\n",
       "      <th>4</th>\n",
       "      <td>SPX201218C00500000</td>\n",
       "      <td>2020-06-09 23:08:40</td>\n",
       "      <td>500.0</td>\n",
       "      <td>1790.50</td>\n",
       "      <td>2621.20</td>\n",
       "      <td>2625.40</td>\n",
       "      <td>0.0</td>\n",
       "      <td>0.0</td>\n",
       "      <td>0</td>\n",
       "      <td>59</td>\n",
       "      <td>2.059957</td>\n",
       "      <td>True</td>\n",
       "      <td>REGULAR</td>\n",
       "      <td>USD</td>\n",
       "    </tr>\n",
       "    <tr>\n",
       "      <th>...</th>\n",
       "      <td>...</td>\n",
       "      <td>...</td>\n",
       "      <td>...</td>\n",
       "      <td>...</td>\n",
       "      <td>...</td>\n",
       "      <td>...</td>\n",
       "      <td>...</td>\n",
       "      <td>...</td>\n",
       "      <td>...</td>\n",
       "      <td>...</td>\n",
       "      <td>...</td>\n",
       "      <td>...</td>\n",
       "      <td>...</td>\n",
       "      <td>...</td>\n",
       "    </tr>\n",
       "    <tr>\n",
       "      <th>89</th>\n",
       "      <td>SPX201218C03800000</td>\n",
       "      <td>2020-06-29 19:42:31</td>\n",
       "      <td>3800.0</td>\n",
       "      <td>6.30</td>\n",
       "      <td>6.60</td>\n",
       "      <td>6.90</td>\n",
       "      <td>0.0</td>\n",
       "      <td>0.0</td>\n",
       "      <td>1</td>\n",
       "      <td>14508</td>\n",
       "      <td>0.182213</td>\n",
       "      <td>False</td>\n",
       "      <td>REGULAR</td>\n",
       "      <td>USD</td>\n",
       "    </tr>\n",
       "    <tr>\n",
       "      <th>90</th>\n",
       "      <td>SPX201218C03900000</td>\n",
       "      <td>2020-06-29 19:45:49</td>\n",
       "      <td>3900.0</td>\n",
       "      <td>4.20</td>\n",
       "      <td>4.30</td>\n",
       "      <td>4.70</td>\n",
       "      <td>0.0</td>\n",
       "      <td>0.0</td>\n",
       "      <td>2</td>\n",
       "      <td>7172</td>\n",
       "      <td>0.186287</td>\n",
       "      <td>False</td>\n",
       "      <td>REGULAR</td>\n",
       "      <td>USD</td>\n",
       "    </tr>\n",
       "    <tr>\n",
       "      <th>91</th>\n",
       "      <td>SPX201218C04000000</td>\n",
       "      <td>2020-06-29 19:39:22</td>\n",
       "      <td>4000.0</td>\n",
       "      <td>3.08</td>\n",
       "      <td>3.10</td>\n",
       "      <td>3.40</td>\n",
       "      <td>0.0</td>\n",
       "      <td>0.0</td>\n",
       "      <td>102</td>\n",
       "      <td>7319</td>\n",
       "      <td>0.191811</td>\n",
       "      <td>False</td>\n",
       "      <td>REGULAR</td>\n",
       "      <td>USD</td>\n",
       "    </tr>\n",
       "    <tr>\n",
       "      <th>92</th>\n",
       "      <td>SPX201218C04100000</td>\n",
       "      <td>2020-06-29 19:36:24</td>\n",
       "      <td>4100.0</td>\n",
       "      <td>2.30</td>\n",
       "      <td>2.25</td>\n",
       "      <td>2.45</td>\n",
       "      <td>0.0</td>\n",
       "      <td>0.0</td>\n",
       "      <td>12</td>\n",
       "      <td>2257</td>\n",
       "      <td>0.196724</td>\n",
       "      <td>False</td>\n",
       "      <td>REGULAR</td>\n",
       "      <td>USD</td>\n",
       "    </tr>\n",
       "    <tr>\n",
       "      <th>93</th>\n",
       "      <td>SPX201218C04200000</td>\n",
       "      <td>2020-06-29 14:38:18</td>\n",
       "      <td>4200.0</td>\n",
       "      <td>1.77</td>\n",
       "      <td>1.70</td>\n",
       "      <td>1.85</td>\n",
       "      <td>0.0</td>\n",
       "      <td>0.0</td>\n",
       "      <td>16</td>\n",
       "      <td>1983</td>\n",
       "      <td>0.202462</td>\n",
       "      <td>False</td>\n",
       "      <td>REGULAR</td>\n",
       "      <td>USD</td>\n",
       "    </tr>\n",
       "  </tbody>\n",
       "</table>\n",
       "<p>94 rows × 14 columns</p>\n",
       "</div>"
      ],
      "text/plain": [
       "        contractSymbol       lastTradeDate  strike  lastPrice      bid  \\\n",
       "0   SPX201218C00100000 2020-06-17 17:28:59   100.0    3012.68  2922.30   \n",
       "1   SPX201218C00200000 2020-06-18 16:31:43   200.0    2878.00  2822.70   \n",
       "2   SPX201218C00300000 2020-06-02 19:11:54   300.0    2738.00  2707.80   \n",
       "3   SPX201218C00400000 2020-06-02 19:11:51   400.0    2638.40  2608.30   \n",
       "4   SPX201218C00500000 2020-06-09 23:08:40   500.0    1790.50  2621.20   \n",
       "..                 ...                 ...     ...        ...      ...   \n",
       "89  SPX201218C03800000 2020-06-29 19:42:31  3800.0       6.30     6.60   \n",
       "90  SPX201218C03900000 2020-06-29 19:45:49  3900.0       4.20     4.30   \n",
       "91  SPX201218C04000000 2020-06-29 19:39:22  4000.0       3.08     3.10   \n",
       "92  SPX201218C04100000 2020-06-29 19:36:24  4100.0       2.30     2.25   \n",
       "93  SPX201218C04200000 2020-06-29 14:38:18  4200.0       1.77     1.70   \n",
       "\n",
       "        ask  change  percentChange  volume  openInterest  impliedVolatility  \\\n",
       "0   2927.00     0.0            0.0     345          3263           0.000010   \n",
       "1   2827.00     0.0            0.0      73          3137           0.000010   \n",
       "2   2755.80     0.0            0.0       8            86           1.427493   \n",
       "3   2656.30     0.0            0.0       6            16           1.273563   \n",
       "4   2625.40     0.0            0.0       0            59           2.059957   \n",
       "..      ...     ...            ...     ...           ...                ...   \n",
       "89     6.90     0.0            0.0       1         14508           0.182213   \n",
       "90     4.70     0.0            0.0       2          7172           0.186287   \n",
       "91     3.40     0.0            0.0     102          7319           0.191811   \n",
       "92     2.45     0.0            0.0      12          2257           0.196724   \n",
       "93     1.85     0.0            0.0      16          1983           0.202462   \n",
       "\n",
       "    inTheMoney contractSize currency  \n",
       "0         True      REGULAR      USD  \n",
       "1         True      REGULAR      USD  \n",
       "2         True      REGULAR      USD  \n",
       "3         True      REGULAR      USD  \n",
       "4         True      REGULAR      USD  \n",
       "..         ...          ...      ...  \n",
       "89       False      REGULAR      USD  \n",
       "90       False      REGULAR      USD  \n",
       "91       False      REGULAR      USD  \n",
       "92       False      REGULAR      USD  \n",
       "93       False      REGULAR      USD  \n",
       "\n",
       "[94 rows x 14 columns]"
      ]
     },
     "execution_count": 8,
     "metadata": {},
     "output_type": "execute_result"
    }
   ],
   "source": [
    "GSPC_calls = GSPC_opts.calls\n",
    "GSPC_calls"
   ]
  },
  {
   "cell_type": "code",
   "execution_count": 9,
   "metadata": {},
   "outputs": [
    {
     "data": {
      "text/plain": [
       "0      100.0\n",
       "1      200.0\n",
       "2      300.0\n",
       "3      400.0\n",
       "4      500.0\n",
       "       ...  \n",
       "89    3800.0\n",
       "90    3900.0\n",
       "91    4000.0\n",
       "92    4100.0\n",
       "93    4200.0\n",
       "Name: strike, Length: 94, dtype: float64"
      ]
     },
     "execution_count": 9,
     "metadata": {},
     "output_type": "execute_result"
    }
   ],
   "source": [
    "K = GSPC_calls['strike']\n",
    "K"
   ]
  },
  {
   "cell_type": "code",
   "execution_count": 10,
   "metadata": {},
   "outputs": [
    {
     "data": {
      "text/plain": [
       "0.46301369863013697"
      ]
     },
     "execution_count": 10,
     "metadata": {},
     "output_type": "execute_result"
    }
   ],
   "source": [
    "expiration_date = datetime.strptime(expirations[0],\"%Y-%m-%d\") \n",
    "today = datetime.now()\n",
    "\n",
    "t = (expiration_date - today).days/365\n",
    "t"
   ]
  },
  {
   "cell_type": "code",
   "execution_count": 11,
   "metadata": {},
   "outputs": [
    {
     "name": "stdout",
     "output_type": "stream",
     "text": [
      "3053.24\n"
     ]
    }
   ],
   "source": [
    "SP500 = stockquotes.Stock(\"^GSPC\")\n",
    "S = SP500.current_price\n",
    "print(S)"
   ]
  },
  {
   "cell_type": "code",
   "execution_count": 12,
   "metadata": {},
   "outputs": [
    {
     "data": {
      "text/html": [
       "<div>\n",
       "<style scoped>\n",
       "    .dataframe tbody tr th:only-of-type {\n",
       "        vertical-align: middle;\n",
       "    }\n",
       "\n",
       "    .dataframe tbody tr th {\n",
       "        vertical-align: top;\n",
       "    }\n",
       "\n",
       "    .dataframe thead th {\n",
       "        text-align: right;\n",
       "    }\n",
       "</style>\n",
       "<table border=\"1\" class=\"dataframe\">\n",
       "  <thead>\n",
       "    <tr style=\"text-align: right;\">\n",
       "      <th></th>\n",
       "      <th>1 MO</th>\n",
       "      <th>2 MO</th>\n",
       "      <th>3 MO</th>\n",
       "      <th>6 MO</th>\n",
       "      <th>1 YR</th>\n",
       "      <th>2 YR</th>\n",
       "      <th>3 YR</th>\n",
       "      <th>5 YR</th>\n",
       "      <th>7 YR</th>\n",
       "      <th>10 YR</th>\n",
       "      <th>20 YR</th>\n",
       "      <th>30 YR</th>\n",
       "    </tr>\n",
       "    <tr>\n",
       "      <th>Date</th>\n",
       "      <th></th>\n",
       "      <th></th>\n",
       "      <th></th>\n",
       "      <th></th>\n",
       "      <th></th>\n",
       "      <th></th>\n",
       "      <th></th>\n",
       "      <th></th>\n",
       "      <th></th>\n",
       "      <th></th>\n",
       "      <th></th>\n",
       "      <th></th>\n",
       "    </tr>\n",
       "  </thead>\n",
       "  <tbody>\n",
       "    <tr>\n",
       "      <th>1990-01-02</th>\n",
       "      <td>NaN</td>\n",
       "      <td>NaN</td>\n",
       "      <td>7.83</td>\n",
       "      <td>7.89</td>\n",
       "      <td>7.81</td>\n",
       "      <td>7.87</td>\n",
       "      <td>7.90</td>\n",
       "      <td>7.87</td>\n",
       "      <td>7.98</td>\n",
       "      <td>7.94</td>\n",
       "      <td>NaN</td>\n",
       "      <td>8.00</td>\n",
       "    </tr>\n",
       "    <tr>\n",
       "      <th>1990-01-03</th>\n",
       "      <td>NaN</td>\n",
       "      <td>NaN</td>\n",
       "      <td>7.89</td>\n",
       "      <td>7.94</td>\n",
       "      <td>7.85</td>\n",
       "      <td>7.94</td>\n",
       "      <td>7.96</td>\n",
       "      <td>7.92</td>\n",
       "      <td>8.04</td>\n",
       "      <td>7.99</td>\n",
       "      <td>NaN</td>\n",
       "      <td>8.04</td>\n",
       "    </tr>\n",
       "    <tr>\n",
       "      <th>1990-01-04</th>\n",
       "      <td>NaN</td>\n",
       "      <td>NaN</td>\n",
       "      <td>7.84</td>\n",
       "      <td>7.90</td>\n",
       "      <td>7.82</td>\n",
       "      <td>7.92</td>\n",
       "      <td>7.93</td>\n",
       "      <td>7.91</td>\n",
       "      <td>8.02</td>\n",
       "      <td>7.98</td>\n",
       "      <td>NaN</td>\n",
       "      <td>8.04</td>\n",
       "    </tr>\n",
       "    <tr>\n",
       "      <th>1990-01-05</th>\n",
       "      <td>NaN</td>\n",
       "      <td>NaN</td>\n",
       "      <td>7.79</td>\n",
       "      <td>7.85</td>\n",
       "      <td>7.79</td>\n",
       "      <td>7.90</td>\n",
       "      <td>7.94</td>\n",
       "      <td>7.92</td>\n",
       "      <td>8.03</td>\n",
       "      <td>7.99</td>\n",
       "      <td>NaN</td>\n",
       "      <td>8.06</td>\n",
       "    </tr>\n",
       "    <tr>\n",
       "      <th>1990-01-08</th>\n",
       "      <td>NaN</td>\n",
       "      <td>NaN</td>\n",
       "      <td>7.79</td>\n",
       "      <td>7.88</td>\n",
       "      <td>7.81</td>\n",
       "      <td>7.90</td>\n",
       "      <td>7.95</td>\n",
       "      <td>7.92</td>\n",
       "      <td>8.05</td>\n",
       "      <td>8.02</td>\n",
       "      <td>NaN</td>\n",
       "      <td>8.09</td>\n",
       "    </tr>\n",
       "    <tr>\n",
       "      <th>...</th>\n",
       "      <td>...</td>\n",
       "      <td>...</td>\n",
       "      <td>...</td>\n",
       "      <td>...</td>\n",
       "      <td>...</td>\n",
       "      <td>...</td>\n",
       "      <td>...</td>\n",
       "      <td>...</td>\n",
       "      <td>...</td>\n",
       "      <td>...</td>\n",
       "      <td>...</td>\n",
       "      <td>...</td>\n",
       "    </tr>\n",
       "    <tr>\n",
       "      <th>2020-06-23</th>\n",
       "      <td>0.12</td>\n",
       "      <td>0.14</td>\n",
       "      <td>0.16</td>\n",
       "      <td>0.17</td>\n",
       "      <td>0.18</td>\n",
       "      <td>0.18</td>\n",
       "      <td>0.22</td>\n",
       "      <td>0.33</td>\n",
       "      <td>0.54</td>\n",
       "      <td>0.72</td>\n",
       "      <td>1.25</td>\n",
       "      <td>1.49</td>\n",
       "    </tr>\n",
       "    <tr>\n",
       "      <th>2020-06-24</th>\n",
       "      <td>0.11</td>\n",
       "      <td>0.14</td>\n",
       "      <td>0.15</td>\n",
       "      <td>0.17</td>\n",
       "      <td>0.17</td>\n",
       "      <td>0.19</td>\n",
       "      <td>0.21</td>\n",
       "      <td>0.33</td>\n",
       "      <td>0.52</td>\n",
       "      <td>0.69</td>\n",
       "      <td>1.21</td>\n",
       "      <td>1.44</td>\n",
       "    </tr>\n",
       "    <tr>\n",
       "      <th>2020-06-25</th>\n",
       "      <td>0.13</td>\n",
       "      <td>0.14</td>\n",
       "      <td>0.16</td>\n",
       "      <td>0.17</td>\n",
       "      <td>0.17</td>\n",
       "      <td>0.17</td>\n",
       "      <td>0.21</td>\n",
       "      <td>0.32</td>\n",
       "      <td>0.53</td>\n",
       "      <td>0.68</td>\n",
       "      <td>1.20</td>\n",
       "      <td>1.43</td>\n",
       "    </tr>\n",
       "    <tr>\n",
       "      <th>2020-06-26</th>\n",
       "      <td>0.12</td>\n",
       "      <td>0.15</td>\n",
       "      <td>0.14</td>\n",
       "      <td>0.17</td>\n",
       "      <td>0.17</td>\n",
       "      <td>0.17</td>\n",
       "      <td>0.19</td>\n",
       "      <td>0.30</td>\n",
       "      <td>0.49</td>\n",
       "      <td>0.64</td>\n",
       "      <td>1.15</td>\n",
       "      <td>1.37</td>\n",
       "    </tr>\n",
       "    <tr>\n",
       "      <th>2020-06-29</th>\n",
       "      <td>0.11</td>\n",
       "      <td>0.14</td>\n",
       "      <td>0.14</td>\n",
       "      <td>0.18</td>\n",
       "      <td>0.16</td>\n",
       "      <td>0.16</td>\n",
       "      <td>0.18</td>\n",
       "      <td>0.28</td>\n",
       "      <td>0.47</td>\n",
       "      <td>0.64</td>\n",
       "      <td>1.16</td>\n",
       "      <td>1.39</td>\n",
       "    </tr>\n",
       "  </tbody>\n",
       "</table>\n",
       "<p>7629 rows × 12 columns</p>\n",
       "</div>"
      ],
      "text/plain": [
       "            1 MO  2 MO  3 MO  6 MO  1 YR  2 YR  3 YR  5 YR  7 YR  10 YR  \\\n",
       "Date                                                                      \n",
       "1990-01-02   NaN   NaN  7.83  7.89  7.81  7.87  7.90  7.87  7.98   7.94   \n",
       "1990-01-03   NaN   NaN  7.89  7.94  7.85  7.94  7.96  7.92  8.04   7.99   \n",
       "1990-01-04   NaN   NaN  7.84  7.90  7.82  7.92  7.93  7.91  8.02   7.98   \n",
       "1990-01-05   NaN   NaN  7.79  7.85  7.79  7.90  7.94  7.92  8.03   7.99   \n",
       "1990-01-08   NaN   NaN  7.79  7.88  7.81  7.90  7.95  7.92  8.05   8.02   \n",
       "...          ...   ...   ...   ...   ...   ...   ...   ...   ...    ...   \n",
       "2020-06-23  0.12  0.14  0.16  0.17  0.18  0.18  0.22  0.33  0.54   0.72   \n",
       "2020-06-24  0.11  0.14  0.15  0.17  0.17  0.19  0.21  0.33  0.52   0.69   \n",
       "2020-06-25  0.13  0.14  0.16  0.17  0.17  0.17  0.21  0.32  0.53   0.68   \n",
       "2020-06-26  0.12  0.15  0.14  0.17  0.17  0.17  0.19  0.30  0.49   0.64   \n",
       "2020-06-29  0.11  0.14  0.14  0.18  0.16  0.16  0.18  0.28  0.47   0.64   \n",
       "\n",
       "            20 YR  30 YR  \n",
       "Date                      \n",
       "1990-01-02    NaN   8.00  \n",
       "1990-01-03    NaN   8.04  \n",
       "1990-01-04    NaN   8.04  \n",
       "1990-01-05    NaN   8.06  \n",
       "1990-01-08    NaN   8.09  \n",
       "...           ...    ...  \n",
       "2020-06-23   1.25   1.49  \n",
       "2020-06-24   1.21   1.44  \n",
       "2020-06-25   1.20   1.43  \n",
       "2020-06-26   1.15   1.37  \n",
       "2020-06-29   1.16   1.39  \n",
       "\n",
       "[7629 rows x 12 columns]"
      ]
     },
     "execution_count": 12,
     "metadata": {},
     "output_type": "execute_result"
    }
   ],
   "source": [
    "# @hidden_cell\n",
    "yield_curve = quandl.get(\"USTREASURY/YIELD\", authtoken=\"JMxryiBcRV26o9r5q7uv\")\n",
    "yield_curve"
   ]
  },
  {
   "cell_type": "code",
   "execution_count": 13,
   "metadata": {},
   "outputs": [
    {
     "name": "stdout",
     "output_type": "stream",
     "text": [
      "There are 6 months to maturity\n"
     ]
    }
   ],
   "source": [
    "time_to_maturity = (expiration_date - today).days\n",
    "if round(time_to_maturity) < 365:\n",
    "    print(f\"There are {round(time_to_maturity/30)} months to maturity\")\n",
    "elif round(time_to_maturity) == 365:\n",
    "    print(f\"There is {round(time_to_maturity/365,1)} year to maturity\")\n",
    "else:\n",
    "    print(f\"There are {round(time_to_maturity/365,1)} years to maturity\")"
   ]
  },
  {
   "cell_type": "code",
   "execution_count": 14,
   "metadata": {},
   "outputs": [
    {
     "name": "stdout",
     "output_type": "stream",
     "text": [
      "0.46301369863013697\n"
     ]
    }
   ],
   "source": [
    "r = yield_curve['6 MO'][-1]/100\n",
    "print(t)"
   ]
  },
  {
   "cell_type": "code",
   "execution_count": 15,
   "metadata": {},
   "outputs": [
    {
     "data": {
      "text/plain": [
       "0     0.000010\n",
       "1     0.000010\n",
       "2     1.427493\n",
       "3     1.273563\n",
       "4     2.059957\n",
       "        ...   \n",
       "89    0.182213\n",
       "90    0.186287\n",
       "91    0.191811\n",
       "92    0.196724\n",
       "93    0.202462\n",
       "Name: impliedVolatility, Length: 94, dtype: float64"
      ]
     },
     "execution_count": 15,
     "metadata": {},
     "output_type": "execute_result"
    }
   ],
   "source": [
    "sigma = GSPC_calls['impliedVolatility']\n",
    "sigma"
   ]
  },
  {
   "cell_type": "code",
   "execution_count": 16,
   "metadata": {},
   "outputs": [
    {
     "data": {
      "text/plain": [
       "0     502694.230058\n",
       "1     400828.397053\n",
       "2          2.876159\n",
       "3          2.780749\n",
       "4          1.992960\n",
       "          ...      \n",
       "89        -1.688168\n",
       "90        -1.853425\n",
       "91        -1.990327\n",
       "92        -2.121780\n",
       "93        -2.232723\n",
       "Length: 94, dtype: float64"
      ]
     },
     "execution_count": 16,
     "metadata": {},
     "output_type": "execute_result"
    }
   ],
   "source": [
    "d1 = (np.log(S/K)+(r+((np.power(sigma,2)/2))*t))/(sigma*math.sqrt(t))\n",
    "d1\n"
   ]
  },
  {
   "cell_type": "code",
   "execution_count": 17,
   "metadata": {},
   "outputs": [
    {
     "data": {
      "text/plain": [
       "0     502694.230051\n",
       "1     400828.397046\n",
       "2          1.904820\n",
       "3          1.914151\n",
       "4          0.591260\n",
       "          ...      \n",
       "89        -1.812155\n",
       "90        -1.980185\n",
       "91        -2.120845\n",
       "92        -2.255641\n",
       "93        -2.370488\n",
       "Length: 94, dtype: float64"
      ]
     },
     "execution_count": 17,
     "metadata": {},
     "output_type": "execute_result"
    }
   ],
   "source": [
    "d2 = d1 - sigma*math.sqrt(t)\n",
    "d2"
   ]
  },
  {
   "cell_type": "code",
   "execution_count": 18,
   "metadata": {},
   "outputs": [
    {
     "data": {
      "text/plain": [
       "array([1.        , 1.        , 0.99798727, 0.99728831, 0.97686709,\n",
       "       0.97285154, 1.        , 0.99462564, 0.96679352, 0.9644603 ,\n",
       "       0.96049716, 0.95831706, 1.        , 0.95356669, 0.98834165,\n",
       "       1.        , 0.97800657, 1.        , 1.        , 1.        ,\n",
       "       1.        , 1.        , 1.        , 1.        , 1.        ,\n",
       "       1.        , 0.98599933, 0.94866174, 1.        , 1.        ,\n",
       "       0.99369219, 0.99000446, 0.98248358, 0.97853429, 0.9729461 ,\n",
       "       0.96665969, 0.96185993, 1.        , 0.948425  , 0.9426229 ,\n",
       "       0.93735113, 0.92982383, 0.91306172, 0.91714296, 0.90846644,\n",
       "       0.89285811, 0.89392867, 0.88594465, 0.87840792, 0.8699963 ,\n",
       "       0.86065309, 0.8521682 , 0.84231391, 0.83258526, 0.82232315,\n",
       "       0.81289799, 0.80148724, 0.7778042 , 0.77990109, 0.76785071,\n",
       "       0.75569681, 0.74358933, 0.73080233, 0.71442327, 0.70391807,\n",
       "       0.68976921, 0.67525626, 0.66009781, 0.64485301, 0.62883006,\n",
       "       0.61254713, 0.59565968, 0.57824696, 0.56035482, 0.54184096,\n",
       "       0.52289828, 0.50341461, 0.483377  , 0.46265228, 0.44150588,\n",
       "       0.41980265, 0.37505369, 0.35229748, 0.330227  , 0.28364721,\n",
       "       0.23810911, 0.15948391, 0.10381807, 0.06723823, 0.04568954,\n",
       "       0.03191071, 0.02327748, 0.0169281 , 0.0127836 ])"
      ]
     },
     "execution_count": 18,
     "metadata": {},
     "output_type": "execute_result"
    }
   ],
   "source": [
    "N_d1 = st.norm.cdf(d1)\n",
    "N_d1"
   ]
  },
  {
   "cell_type": "code",
   "execution_count": 19,
   "metadata": {},
   "outputs": [
    {
     "data": {
      "text/plain": [
       "array([1.        , 1.        , 0.97159825, 0.97219957, 0.72282698,\n",
       "       0.74785326, 1.        , 0.97035328, 0.77249725, 0.77598336,\n",
       "       0.78787476, 0.79162041, 1.        , 0.79615736, 0.96083868,\n",
       "       1.        , 0.94534561, 1.        , 1.        , 1.        ,\n",
       "       1.        , 1.        , 1.        , 1.        , 1.        ,\n",
       "       1.        , 0.97471337, 0.90284817, 1.        , 1.        ,\n",
       "       0.98947036, 0.98342295, 0.97100333, 0.96479065, 0.95595794,\n",
       "       0.94612154, 0.93895478, 1.        , 0.9187648 , 0.91047829,\n",
       "       0.90324727, 0.89251223, 0.8667867 , 0.87553044, 0.86357466,\n",
       "       0.84057765, 0.84486987, 0.83470578, 0.82548373, 0.81510559,\n",
       "       0.80349645, 0.79349608, 0.78158919, 0.77014573, 0.75813154,\n",
       "       0.74772401, 0.73446215, 0.70134486, 0.71081564, 0.69746084,\n",
       "       0.6842717 , 0.6715195 , 0.65802672, 0.63871903, 0.63004733,\n",
       "       0.61548675, 0.60075441, 0.58531538, 0.57032267, 0.55433154,\n",
       "       0.5385755 , 0.52222791, 0.50548369, 0.48816925, 0.47093626,\n",
       "       0.45307203, 0.43489577, 0.41637144, 0.39744073, 0.3781809 ,\n",
       "       0.35856455, 0.31847845, 0.29823106, 0.27853269, 0.2377547 ,\n",
       "       0.19822696, 0.13057094, 0.08327679, 0.05273859, 0.03498114,\n",
       "       0.02384138, 0.01696743, 0.01204655, 0.0088823 ])"
      ]
     },
     "execution_count": 19,
     "metadata": {},
     "output_type": "execute_result"
    }
   ],
   "source": [
    "N_d2 = st.norm.cdf(d2)\n",
    "N_d2"
   ]
  },
  {
   "cell_type": "code",
   "execution_count": 20,
   "metadata": {},
   "outputs": [
    {
     "data": {
      "text/plain": [
       "0     2953.323308\n",
       "1     2853.406615\n",
       "2     2755.857990\n",
       "3     2656.404709\n",
       "4     2621.497264\n",
       "         ...     \n",
       "89       6.683535\n",
       "90       4.527124\n",
       "91       3.258532\n",
       "92       2.335859\n",
       "93       1.756821\n",
       "Name: strike, Length: 94, dtype: float64"
      ]
     },
     "execution_count": 20,
     "metadata": {},
     "output_type": "execute_result"
    }
   ],
   "source": [
    "C = S*N_d1-K*math.exp(-r*t)*N_d2\n",
    "C"
   ]
  },
  {
   "cell_type": "code",
   "execution_count": null,
   "metadata": {},
   "outputs": [],
   "source": []
  }
 ],
 "metadata": {
  "kernelspec": {
   "display_name": "Python 3",
   "language": "python",
   "name": "python3"
  },
  "language_info": {
   "codemirror_mode": {
    "name": "ipython",
    "version": 3
   },
   "file_extension": ".py",
   "mimetype": "text/x-python",
   "name": "python",
   "nbconvert_exporter": "python",
   "pygments_lexer": "ipython3",
   "version": "3.7.6"
  }
 },
 "nbformat": 4,
 "nbformat_minor": 4
}
